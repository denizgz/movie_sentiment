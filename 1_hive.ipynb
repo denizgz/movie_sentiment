{
 "metadata": {
  "language_info": {
   "codemirror_mode": {
    "name": "ipython",
    "version": 3
   },
   "file_extension": ".py",
   "mimetype": "text/x-python",
   "name": "python",
   "nbconvert_exporter": "python",
   "pygments_lexer": "ipython3",
   "version": "3.8.3"
  },
  "orig_nbformat": 4,
  "kernelspec": {
   "name": "python3",
   "display_name": "Python 3.8.3 64-bit ('base': conda)"
  },
  "interpreter": {
   "hash": "516186bd0ec0d9f4d5315d95f88038d756540a3a2a2ced092e94dc29fedad10e"
  }
 },
 "nbformat": 4,
 "nbformat_minor": 2,
 "cells": [
  {
   "cell_type": "code",
   "execution_count": 8,
   "metadata": {},
   "outputs": [],
   "source": [
    "import re\n",
    "import pandas as pd\n",
    "import gensim\n",
    "from gensim.parsing.preprocessing import STOPWORDS, strip_tags, strip_numeric, strip_punctuation, strip_multiple_whitespaces, remove_stopwords, strip_short, stem_text\n",
    "import pickle\n",
    "import en_core_web_sm\n",
    "import nltk\n",
    "import os\n",
    "from nltk.tokenize import word_tokenize\n",
    "import emoji"
   ]
  },
  {
   "cell_type": "code",
   "execution_count": 9,
   "metadata": {},
   "outputs": [
    {
     "output_type": "execute_result",
     "data": {
      "text/plain": [
       "        user_id  user_statuses             name  \\\n",
       "0  2.730776e+07          50931      AppelquistP   \n",
       "1  2.880588e+09          27578       kaarnama13   \n",
       "2  2.370116e+09         115767      Niggvtivity   \n",
       "3  4.817271e+07           4971  DystopicRedhead   \n",
       "4  1.402080e+18             13   smash_media_us   \n",
       "\n",
       "                                               tweet  retweets  \\\n",
       "0  Damn I thought I was finally in the #Matrix or...         0   \n",
       "1  â€œNosediveâ€ episode from #blackmirror gets ...         0   \n",
       "2  I've just watched episode S03 | E05 of Black M...         0   \n",
       "3  The perfect description of the #Tories and the...         4   \n",
       "4  ã€ #ONEUS Ã— #smash. ã€‘\\n\\nONEUS is on now s...         0   \n",
       "\n",
       "                     location     created  followers  is_user_verified  \\\n",
       "0                          OZ  18/06/2021        130             False   \n",
       "1               Aage se right  18/06/2021        669             False   \n",
       "2  Bonneuil-sur-Marne, France  18/06/2021        795             False   \n",
       "3              United Kingdom  18/06/2021       2117             False   \n",
       "4                         NaN  18/06/2021        762             False   \n",
       "\n",
       "   favorite_count  in_reply_to_status_id       keyword language  \\\n",
       "0               0                    NaN  #blackmirror       en   \n",
       "1               6                    NaN  #blackmirror       en   \n",
       "2               0                    NaN  #blackmirror       en   \n",
       "3               8                    NaN  #blackmirror       en   \n",
       "4               5                    NaN  #blackmirror       en   \n",
       "\n",
       "                                               site  \n",
       "0  date post corona\\2021-06-18_en_#blackmirror.json  \n",
       "1  date post corona\\2021-06-18_en_#blackmirror.json  \n",
       "2  date post corona\\2021-06-18_en_#blackmirror.json  \n",
       "3  date post corona\\2021-06-18_en_#blackmirror.json  \n",
       "4  date post corona\\2021-06-18_en_#blackmirror.json  "
      ],
      "text/html": "<div>\n<style scoped>\n    .dataframe tbody tr th:only-of-type {\n        vertical-align: middle;\n    }\n\n    .dataframe tbody tr th {\n        vertical-align: top;\n    }\n\n    .dataframe thead th {\n        text-align: right;\n    }\n</style>\n<table border=\"1\" class=\"dataframe\">\n  <thead>\n    <tr style=\"text-align: right;\">\n      <th></th>\n      <th>user_id</th>\n      <th>user_statuses</th>\n      <th>name</th>\n      <th>tweet</th>\n      <th>retweets</th>\n      <th>location</th>\n      <th>created</th>\n      <th>followers</th>\n      <th>is_user_verified</th>\n      <th>favorite_count</th>\n      <th>in_reply_to_status_id</th>\n      <th>keyword</th>\n      <th>language</th>\n      <th>site</th>\n    </tr>\n  </thead>\n  <tbody>\n    <tr>\n      <th>0</th>\n      <td>2.730776e+07</td>\n      <td>50931</td>\n      <td>AppelquistP</td>\n      <td>Damn I thought I was finally in the #Matrix or...</td>\n      <td>0</td>\n      <td>OZ</td>\n      <td>18/06/2021</td>\n      <td>130</td>\n      <td>False</td>\n      <td>0</td>\n      <td>NaN</td>\n      <td>#blackmirror</td>\n      <td>en</td>\n      <td>date post corona\\2021-06-18_en_#blackmirror.json</td>\n    </tr>\n    <tr>\n      <th>1</th>\n      <td>2.880588e+09</td>\n      <td>27578</td>\n      <td>kaarnama13</td>\n      <td>â€œNosediveâ€ episode from #blackmirror gets ...</td>\n      <td>0</td>\n      <td>Aage se right</td>\n      <td>18/06/2021</td>\n      <td>669</td>\n      <td>False</td>\n      <td>6</td>\n      <td>NaN</td>\n      <td>#blackmirror</td>\n      <td>en</td>\n      <td>date post corona\\2021-06-18_en_#blackmirror.json</td>\n    </tr>\n    <tr>\n      <th>2</th>\n      <td>2.370116e+09</td>\n      <td>115767</td>\n      <td>Niggvtivity</td>\n      <td>I've just watched episode S03 | E05 of Black M...</td>\n      <td>0</td>\n      <td>Bonneuil-sur-Marne, France</td>\n      <td>18/06/2021</td>\n      <td>795</td>\n      <td>False</td>\n      <td>0</td>\n      <td>NaN</td>\n      <td>#blackmirror</td>\n      <td>en</td>\n      <td>date post corona\\2021-06-18_en_#blackmirror.json</td>\n    </tr>\n    <tr>\n      <th>3</th>\n      <td>4.817271e+07</td>\n      <td>4971</td>\n      <td>DystopicRedhead</td>\n      <td>The perfect description of the #Tories and the...</td>\n      <td>4</td>\n      <td>United Kingdom</td>\n      <td>18/06/2021</td>\n      <td>2117</td>\n      <td>False</td>\n      <td>8</td>\n      <td>NaN</td>\n      <td>#blackmirror</td>\n      <td>en</td>\n      <td>date post corona\\2021-06-18_en_#blackmirror.json</td>\n    </tr>\n    <tr>\n      <th>4</th>\n      <td>1.402080e+18</td>\n      <td>13</td>\n      <td>smash_media_us</td>\n      <td>ã€ #ONEUS Ã— #smash. ã€‘\\n\\nONEUS is on now s...</td>\n      <td>0</td>\n      <td>NaN</td>\n      <td>18/06/2021</td>\n      <td>762</td>\n      <td>False</td>\n      <td>5</td>\n      <td>NaN</td>\n      <td>#blackmirror</td>\n      <td>en</td>\n      <td>date post corona\\2021-06-18_en_#blackmirror.json</td>\n    </tr>\n  </tbody>\n</table>\n</div>"
     },
     "metadata": {},
     "execution_count": 9
    }
   ],
   "source": [
    "df = pd.read_csv('aftercorona.csv')\n",
    "df.head()"
   ]
  },
  {
   "cell_type": "code",
   "execution_count": 10,
   "metadata": {},
   "outputs": [
    {
     "output_type": "execute_result",
     "data": {
      "text/plain": [
       "Index(['user_id', 'user_statuses', 'name', 'tweet', 'retweets', 'location',\n",
       "       'created', 'followers', 'is_user_verified', 'favorite_count',\n",
       "       'in_reply_to_status_id', 'keyword', 'language', 'site'],\n",
       "      dtype='object')"
      ]
     },
     "metadata": {},
     "execution_count": 10
    }
   ],
   "source": [
    "df.columns"
   ]
  },
  {
   "cell_type": "code",
   "execution_count": 11,
   "metadata": {},
   "outputs": [
    {
     "output_type": "execute_result",
     "data": {
      "text/plain": [
       "(1735, 14)"
      ]
     },
     "metadata": {},
     "execution_count": 11
    }
   ],
   "source": [
    "df.shape"
   ]
  },
  {
   "cell_type": "code",
   "execution_count": 12,
   "metadata": {},
   "outputs": [],
   "source": [
    "def clean_complete_for_vader(tweet):\n",
    "    \"\"\"\n",
    "    tweet: pandas series\n",
    "    prepares tweets complete cleaning for further lemmatization and dering embeddings\n",
    "    \"\"\"\n",
    "    pat = r\"(\\\\n)|(@\\w*)|((www\\.[^\\s]+)|(https?://[^\\s]+))\"\n",
    "    tweet = tweet.str.replace(pat, '')\n",
    "\n",
    "    \n",
    "    #replace emoticons with words\n",
    "    #SMILEYS = {\":-(\":\"sad\", \":‑)\":\"smiley\", \":-P\":\"playfullness\", \":-/\":'confused'}\n",
    "    tweet = tweet.str.replace(r':-\\)', ' smile')\n",
    "    tweet = tweet.str.replace(r':-\\(', ' sad')\n",
    "    tweet = tweet.str.replace(r':-\\/', ' confused')\n",
    "    tweet = tweet.str.replace(r':-P', ' playfullness')\n",
    "\n",
    "    #delete \\xa\n",
    "    tweet = tweet.str.replace('\\xa0', '')\n",
    "    tweet = tweet.str.replace('&amp', '')\n",
    "    tweet = tweet.str.replace('\\n', '')\n",
    "    tweet = tweet.str.replace('\"', '')\n",
    "    tweet = tweet.str.replace('ℐℓ٥ﻻﻉ√٥υ', '')\n",
    "\n",
    "    #delete numbers\n",
    "    tweet = [strip_numeric(c) for c in tweet]\n",
    "\n",
    "    #replacing emojies with descriptions '❤️-> red heart'\n",
    "    tweet = [demoji.replace_with_desc(c, ' ') for c in tweet]]\n",
    "\n",
    "    #remove stop words\n",
    "    tweet = [remove_stopwords(c) for c in tweet]\n",
    "\n",
    "    #remove short words\n",
    "    tweet = [strip_short(c) for c in tweet]\n",
    "\n",
    "    #remove mult whitespaces\n",
    "    tweet = [strip_multiple_whitespaces(c) for c in tweet]\n",
    "    return tweet\n"
   ]
  },
  {
   "cell_type": "code",
   "execution_count": 13,
   "metadata": {},
   "outputs": [],
   "source": [
    "df['tweet'] = clean_complete(df.tweet)"
   ]
  },
  {
   "cell_type": "code",
   "execution_count": 15,
   "metadata": {},
   "outputs": [
    {
     "output_type": "execute_result",
     "data": {
      "text/plain": [
       "        user_id  user_statuses             name  \\\n",
       "0  2.730776e+07          50931      AppelquistP   \n",
       "1  2.880588e+09          27578       kaarnama13   \n",
       "2  2.370116e+09         115767      Niggvtivity   \n",
       "3  4.817271e+07           4971  DystopicRedhead   \n",
       "4  1.402080e+18             13   smash_media_us   \n",
       "\n",
       "                                               tweet  retweets  \\\n",
       "0  damn thought finally matrix blackmirror aliens...         0   \n",
       "1  â€œnosediveâ€ episode blackmirror gets closer...         0   \n",
       "2    watched episode black mirror blackmirror tvtime         0   \n",
       "3  perfect description tories voters favourite sc...         4   \n",
       "4  ã€ oneus smash ã€‘oneus smash â£ï¸new song ...         0   \n",
       "\n",
       "                    location     created  followers  is_user_verified  \\\n",
       "0                         OZ  18/06/2021        130             False   \n",
       "1              Aage se right  18/06/2021        669             False   \n",
       "2  Bonneuil-sur-Marne France  18/06/2021        795             False   \n",
       "3             United Kingdom  18/06/2021       2117             False   \n",
       "4                        NaN  18/06/2021        762             False   \n",
       "\n",
       "   favorite_count  in_reply_to_status_id       keyword language  \\\n",
       "0               0                    NaN  #blackmirror       en   \n",
       "1               6                    NaN  #blackmirror       en   \n",
       "2               0                    NaN  #blackmirror       en   \n",
       "3               8                    NaN  #blackmirror       en   \n",
       "4               5                    NaN  #blackmirror       en   \n",
       "\n",
       "                                               site  \n",
       "0  date post corona\\2021-06-18_en_#blackmirror.json  \n",
       "1  date post corona\\2021-06-18_en_#blackmirror.json  \n",
       "2  date post corona\\2021-06-18_en_#blackmirror.json  \n",
       "3  date post corona\\2021-06-18_en_#blackmirror.json  \n",
       "4  date post corona\\2021-06-18_en_#blackmirror.json  "
      ],
      "text/html": "<div>\n<style scoped>\n    .dataframe tbody tr th:only-of-type {\n        vertical-align: middle;\n    }\n\n    .dataframe tbody tr th {\n        vertical-align: top;\n    }\n\n    .dataframe thead th {\n        text-align: right;\n    }\n</style>\n<table border=\"1\" class=\"dataframe\">\n  <thead>\n    <tr style=\"text-align: right;\">\n      <th></th>\n      <th>user_id</th>\n      <th>user_statuses</th>\n      <th>name</th>\n      <th>tweet</th>\n      <th>retweets</th>\n      <th>location</th>\n      <th>created</th>\n      <th>followers</th>\n      <th>is_user_verified</th>\n      <th>favorite_count</th>\n      <th>in_reply_to_status_id</th>\n      <th>keyword</th>\n      <th>language</th>\n      <th>site</th>\n    </tr>\n  </thead>\n  <tbody>\n    <tr>\n      <th>0</th>\n      <td>2.730776e+07</td>\n      <td>50931</td>\n      <td>AppelquistP</td>\n      <td>damn thought finally matrix blackmirror aliens...</td>\n      <td>0</td>\n      <td>OZ</td>\n      <td>18/06/2021</td>\n      <td>130</td>\n      <td>False</td>\n      <td>0</td>\n      <td>NaN</td>\n      <td>#blackmirror</td>\n      <td>en</td>\n      <td>date post corona\\2021-06-18_en_#blackmirror.json</td>\n    </tr>\n    <tr>\n      <th>1</th>\n      <td>2.880588e+09</td>\n      <td>27578</td>\n      <td>kaarnama13</td>\n      <td>â€œnosediveâ€ episode blackmirror gets closer...</td>\n      <td>0</td>\n      <td>Aage se right</td>\n      <td>18/06/2021</td>\n      <td>669</td>\n      <td>False</td>\n      <td>6</td>\n      <td>NaN</td>\n      <td>#blackmirror</td>\n      <td>en</td>\n      <td>date post corona\\2021-06-18_en_#blackmirror.json</td>\n    </tr>\n    <tr>\n      <th>2</th>\n      <td>2.370116e+09</td>\n      <td>115767</td>\n      <td>Niggvtivity</td>\n      <td>watched episode black mirror blackmirror tvtime</td>\n      <td>0</td>\n      <td>Bonneuil-sur-Marne France</td>\n      <td>18/06/2021</td>\n      <td>795</td>\n      <td>False</td>\n      <td>0</td>\n      <td>NaN</td>\n      <td>#blackmirror</td>\n      <td>en</td>\n      <td>date post corona\\2021-06-18_en_#blackmirror.json</td>\n    </tr>\n    <tr>\n      <th>3</th>\n      <td>4.817271e+07</td>\n      <td>4971</td>\n      <td>DystopicRedhead</td>\n      <td>perfect description tories voters favourite sc...</td>\n      <td>4</td>\n      <td>United Kingdom</td>\n      <td>18/06/2021</td>\n      <td>2117</td>\n      <td>False</td>\n      <td>8</td>\n      <td>NaN</td>\n      <td>#blackmirror</td>\n      <td>en</td>\n      <td>date post corona\\2021-06-18_en_#blackmirror.json</td>\n    </tr>\n    <tr>\n      <th>4</th>\n      <td>1.402080e+18</td>\n      <td>13</td>\n      <td>smash_media_us</td>\n      <td>ã€ oneus smash ã€‘oneus smash â£ï¸new song ...</td>\n      <td>0</td>\n      <td>NaN</td>\n      <td>18/06/2021</td>\n      <td>762</td>\n      <td>False</td>\n      <td>5</td>\n      <td>NaN</td>\n      <td>#blackmirror</td>\n      <td>en</td>\n      <td>date post corona\\2021-06-18_en_#blackmirror.json</td>\n    </tr>\n  </tbody>\n</table>\n</div>"
     },
     "metadata": {},
     "execution_count": 15
    }
   ],
   "source": [
    "df.head()"
   ]
  },
  {
   "cell_type": "code",
   "execution_count": 18,
   "metadata": {},
   "outputs": [
    {
     "output_type": "execute_result",
     "data": {
      "text/plain": [
       "(1735, 14)"
      ]
     },
     "metadata": {},
     "execution_count": 18
    }
   ],
   "source": [
    "df.shape"
   ]
  },
  {
   "cell_type": "code",
   "execution_count": 19,
   "metadata": {},
   "outputs": [
    {
     "output_type": "execute_result",
     "data": {
      "text/plain": [
       "        user_id  user_statuses             name  \\\n",
       "0  2.730776e+07          50931      AppelquistP   \n",
       "1  2.880588e+09          27578       kaarnama13   \n",
       "2  2.370116e+09         115767      Niggvtivity   \n",
       "3  4.817271e+07           4971  DystopicRedhead   \n",
       "4  1.402080e+18             13   smash_media_us   \n",
       "\n",
       "                                               tweet  retweets  \\\n",
       "0  damn thought finally matrix blackmirror aliens...         0   \n",
       "1  â€œnosediveâ€ episode blackmirror gets closer...         0   \n",
       "2    watched episode black mirror blackmirror tvtime         0   \n",
       "3  perfect description tories voters favourite sc...         4   \n",
       "4  ã€ oneus smash ã€‘oneus smash â£ï¸new song ...         0   \n",
       "\n",
       "                    location     created  followers  is_user_verified  \\\n",
       "0                         OZ  18/06/2021        130             False   \n",
       "1              Aage se right  18/06/2021        669             False   \n",
       "2  Bonneuil-sur-Marne France  18/06/2021        795             False   \n",
       "3             United Kingdom  18/06/2021       2117             False   \n",
       "4                        NaN  18/06/2021        762             False   \n",
       "\n",
       "   favorite_count  in_reply_to_status_id       keyword language  \\\n",
       "0               0                    NaN  #blackmirror       en   \n",
       "1               6                    NaN  #blackmirror       en   \n",
       "2               0                    NaN  #blackmirror       en   \n",
       "3               8                    NaN  #blackmirror       en   \n",
       "4               5                    NaN  #blackmirror       en   \n",
       "\n",
       "                                               site  \n",
       "0  date post corona\\2021-06-18_en_#blackmirror.json  \n",
       "1  date post corona\\2021-06-18_en_#blackmirror.json  \n",
       "2  date post corona\\2021-06-18_en_#blackmirror.json  \n",
       "3  date post corona\\2021-06-18_en_#blackmirror.json  \n",
       "4  date post corona\\2021-06-18_en_#blackmirror.json  "
      ],
      "text/html": "<div>\n<style scoped>\n    .dataframe tbody tr th:only-of-type {\n        vertical-align: middle;\n    }\n\n    .dataframe tbody tr th {\n        vertical-align: top;\n    }\n\n    .dataframe thead th {\n        text-align: right;\n    }\n</style>\n<table border=\"1\" class=\"dataframe\">\n  <thead>\n    <tr style=\"text-align: right;\">\n      <th></th>\n      <th>user_id</th>\n      <th>user_statuses</th>\n      <th>name</th>\n      <th>tweet</th>\n      <th>retweets</th>\n      <th>location</th>\n      <th>created</th>\n      <th>followers</th>\n      <th>is_user_verified</th>\n      <th>favorite_count</th>\n      <th>in_reply_to_status_id</th>\n      <th>keyword</th>\n      <th>language</th>\n      <th>site</th>\n    </tr>\n  </thead>\n  <tbody>\n    <tr>\n      <th>0</th>\n      <td>2.730776e+07</td>\n      <td>50931</td>\n      <td>AppelquistP</td>\n      <td>damn thought finally matrix blackmirror aliens...</td>\n      <td>0</td>\n      <td>OZ</td>\n      <td>18/06/2021</td>\n      <td>130</td>\n      <td>False</td>\n      <td>0</td>\n      <td>NaN</td>\n      <td>#blackmirror</td>\n      <td>en</td>\n      <td>date post corona\\2021-06-18_en_#blackmirror.json</td>\n    </tr>\n    <tr>\n      <th>1</th>\n      <td>2.880588e+09</td>\n      <td>27578</td>\n      <td>kaarnama13</td>\n      <td>â€œnosediveâ€ episode blackmirror gets closer...</td>\n      <td>0</td>\n      <td>Aage se right</td>\n      <td>18/06/2021</td>\n      <td>669</td>\n      <td>False</td>\n      <td>6</td>\n      <td>NaN</td>\n      <td>#blackmirror</td>\n      <td>en</td>\n      <td>date post corona\\2021-06-18_en_#blackmirror.json</td>\n    </tr>\n    <tr>\n      <th>2</th>\n      <td>2.370116e+09</td>\n      <td>115767</td>\n      <td>Niggvtivity</td>\n      <td>watched episode black mirror blackmirror tvtime</td>\n      <td>0</td>\n      <td>Bonneuil-sur-Marne France</td>\n      <td>18/06/2021</td>\n      <td>795</td>\n      <td>False</td>\n      <td>0</td>\n      <td>NaN</td>\n      <td>#blackmirror</td>\n      <td>en</td>\n      <td>date post corona\\2021-06-18_en_#blackmirror.json</td>\n    </tr>\n    <tr>\n      <th>3</th>\n      <td>4.817271e+07</td>\n      <td>4971</td>\n      <td>DystopicRedhead</td>\n      <td>perfect description tories voters favourite sc...</td>\n      <td>4</td>\n      <td>United Kingdom</td>\n      <td>18/06/2021</td>\n      <td>2117</td>\n      <td>False</td>\n      <td>8</td>\n      <td>NaN</td>\n      <td>#blackmirror</td>\n      <td>en</td>\n      <td>date post corona\\2021-06-18_en_#blackmirror.json</td>\n    </tr>\n    <tr>\n      <th>4</th>\n      <td>1.402080e+18</td>\n      <td>13</td>\n      <td>smash_media_us</td>\n      <td>ã€ oneus smash ã€‘oneus smash â£ï¸new song ...</td>\n      <td>0</td>\n      <td>NaN</td>\n      <td>18/06/2021</td>\n      <td>762</td>\n      <td>False</td>\n      <td>5</td>\n      <td>NaN</td>\n      <td>#blackmirror</td>\n      <td>en</td>\n      <td>date post corona\\2021-06-18_en_#blackmirror.json</td>\n    </tr>\n  </tbody>\n</table>\n</div>"
     },
     "metadata": {},
     "execution_count": 19
    }
   ],
   "source": [
    "df.head()"
   ]
  },
  {
   "cell_type": "code",
   "execution_count": 20,
   "metadata": {},
   "outputs": [],
   "source": [
    "df = df[['user_id','tweet', 'retweets', 'location',\n",
    "       'created', 'followers', 'keyword', 'language']]"
   ]
  },
  {
   "cell_type": "code",
   "execution_count": 21,
   "metadata": {},
   "outputs": [
    {
     "output_type": "execute_result",
     "data": {
      "text/plain": [
       "        user_id                                              tweet  retweets  \\\n",
       "0  2.730776e+07  damn thought finally matrix blackmirror aliens...         0   \n",
       "1  2.880588e+09  â€œnosediveâ€ episode blackmirror gets closer...         0   \n",
       "2  2.370116e+09    watched episode black mirror blackmirror tvtime         0   \n",
       "3  4.817271e+07  perfect description tories voters favourite sc...         4   \n",
       "4  1.402080e+18  ã€ oneus smash ã€‘oneus smash â£ï¸new song ...         0   \n",
       "\n",
       "                    location     created  followers       keyword language  \n",
       "0                         OZ  18/06/2021        130  #blackmirror       en  \n",
       "1              Aage se right  18/06/2021        669  #blackmirror       en  \n",
       "2  Bonneuil-sur-Marne France  18/06/2021        795  #blackmirror       en  \n",
       "3             United Kingdom  18/06/2021       2117  #blackmirror       en  \n",
       "4                        NaN  18/06/2021        762  #blackmirror       en  "
      ],
      "text/html": "<div>\n<style scoped>\n    .dataframe tbody tr th:only-of-type {\n        vertical-align: middle;\n    }\n\n    .dataframe tbody tr th {\n        vertical-align: top;\n    }\n\n    .dataframe thead th {\n        text-align: right;\n    }\n</style>\n<table border=\"1\" class=\"dataframe\">\n  <thead>\n    <tr style=\"text-align: right;\">\n      <th></th>\n      <th>user_id</th>\n      <th>tweet</th>\n      <th>retweets</th>\n      <th>location</th>\n      <th>created</th>\n      <th>followers</th>\n      <th>keyword</th>\n      <th>language</th>\n    </tr>\n  </thead>\n  <tbody>\n    <tr>\n      <th>0</th>\n      <td>2.730776e+07</td>\n      <td>damn thought finally matrix blackmirror aliens...</td>\n      <td>0</td>\n      <td>OZ</td>\n      <td>18/06/2021</td>\n      <td>130</td>\n      <td>#blackmirror</td>\n      <td>en</td>\n    </tr>\n    <tr>\n      <th>1</th>\n      <td>2.880588e+09</td>\n      <td>â€œnosediveâ€ episode blackmirror gets closer...</td>\n      <td>0</td>\n      <td>Aage se right</td>\n      <td>18/06/2021</td>\n      <td>669</td>\n      <td>#blackmirror</td>\n      <td>en</td>\n    </tr>\n    <tr>\n      <th>2</th>\n      <td>2.370116e+09</td>\n      <td>watched episode black mirror blackmirror tvtime</td>\n      <td>0</td>\n      <td>Bonneuil-sur-Marne France</td>\n      <td>18/06/2021</td>\n      <td>795</td>\n      <td>#blackmirror</td>\n      <td>en</td>\n    </tr>\n    <tr>\n      <th>3</th>\n      <td>4.817271e+07</td>\n      <td>perfect description tories voters favourite sc...</td>\n      <td>4</td>\n      <td>United Kingdom</td>\n      <td>18/06/2021</td>\n      <td>2117</td>\n      <td>#blackmirror</td>\n      <td>en</td>\n    </tr>\n    <tr>\n      <th>4</th>\n      <td>1.402080e+18</td>\n      <td>ã€ oneus smash ã€‘oneus smash â£ï¸new song ...</td>\n      <td>0</td>\n      <td>NaN</td>\n      <td>18/06/2021</td>\n      <td>762</td>\n      <td>#blackmirror</td>\n      <td>en</td>\n    </tr>\n  </tbody>\n</table>\n</div>"
     },
     "metadata": {},
     "execution_count": 21
    }
   ],
   "source": [
    "df.head()"
   ]
  },
  {
   "cell_type": "code",
   "execution_count": 22,
   "metadata": {},
   "outputs": [],
   "source": [
    "df.to_csv('to_hive_aftercorona.csv', sep=',', header=False)"
   ]
  },
  {
   "cell_type": "code",
   "execution_count": null,
   "metadata": {},
   "outputs": [],
   "source": []
  }
 ]
}