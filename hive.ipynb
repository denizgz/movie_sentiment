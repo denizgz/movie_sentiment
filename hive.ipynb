{
 "metadata": {
  "language_info": {
   "codemirror_mode": {
    "name": "ipython",
    "version": 3
   },
   "file_extension": ".py",
   "mimetype": "text/x-python",
   "name": "python",
   "nbconvert_exporter": "python",
   "pygments_lexer": "ipython3",
   "version": "3.8.3"
  },
  "orig_nbformat": 4,
  "kernelspec": {
   "name": "python3",
   "display_name": "Python 3.8.3 64-bit ('base': conda)"
  },
  "interpreter": {
   "hash": "516186bd0ec0d9f4d5315d95f88038d756540a3a2a2ced092e94dc29fedad10e"
  }
 },
 "nbformat": 4,
 "nbformat_minor": 2,
 "cells": [
  {
   "cell_type": "code",
   "execution_count": 1,
   "metadata": {},
   "outputs": [
    {
     "output_type": "stream",
     "name": "stderr",
     "text": [
      "D:\\deniz\\anaconda3\\lib\\site-packages\\gensim\\similarities\\__init__.py:15: UserWarning: The gensim.similarities.levenshtein submodule is disabled, because the optional Levenshtein package <https://pypi.org/project/python-Levenshtein/> is unavailable. Install Levenhstein (e.g. `pip install python-Levenshtein`) to suppress this warning.\n  warnings.warn(msg)\n"
     ]
    }
   ],
   "source": [
    "import re\n",
    "import pandas as pd\n",
    "import gensim\n",
    "from gensim.parsing.preprocessing import STOPWORDS, strip_tags, strip_numeric, strip_punctuation, strip_multiple_whitespaces, remove_stopwords, strip_short, stem_text\n",
    "import pickle\n",
    "import en_core_web_sm\n",
    "import nltk\n",
    "import os\n",
    "from nltk.tokenize import word_tokenize\n",
    "import emoji"
   ]
  },
  {
   "cell_type": "code",
   "execution_count": 32,
   "metadata": {},
   "outputs": [
    {
     "output_type": "execute_result",
     "data": {
      "text/plain": [
       "        user_id  user_statuses             name  \\\n",
       "0  2.730776e+07          50931      AppelquistP   \n",
       "1  2.880588e+09          27578       kaarnama13   \n",
       "2  2.370116e+09         115767      Niggvtivity   \n",
       "3  4.817271e+07           4971  DystopicRedhead   \n",
       "4  1.402080e+18             13   smash_media_us   \n",
       "\n",
       "                                                                                                                                                                                                                                             tweet  \\\n",
       "0                                                        Damn I thought I was finally in the #Matrix or #blackmirror or #Aliens landed and this was their way of a soft opening...\\nNow, I appreciate #Interns even more.. https://t.co/AjdTC8V6tq   \n",
       "1                                                                                                                                                              â€œNosediveâ€ episode from #blackmirror gets closer to reality with kencil culture   \n",
       "2                                                                                                                                                I've just watched episode S03 | E05 of Black Mirror! #BlackMirror https://t.co/gYm02z0pa4 #tvtime   \n",
       "3  The perfect description of the #Tories and their voters by one of my favourite screenwriters in the whole ðŸŒŽ,  the Mastermind behind #BlackMirror, Charlie Brooker \\n\\n#FBPE #FBPA #FBPPR #ToriesOut \\n#ToryCriminals https://t.co/W8buFjRf1b   \n",
       "4                                                            ã€ #ONEUS Ã— #smash. ã€‘\\n\\nONEUS is on now smash.â£ï¸\\n\\nNew song #BLACKMIRROR is on smash. exclusive vertical music video!\\n\\nClick here to watchâ¬‡ï¸\\nhttps://t.co/Uh9mE40PCx   \n",
       "\n",
       "   retweets                    location     created  followers  \\\n",
       "0         0                          OZ  18/06/2021        130   \n",
       "1         0               Aage se right  18/06/2021        669   \n",
       "2         0  Bonneuil-sur-Marne, France  18/06/2021        795   \n",
       "3         4              United Kingdom  18/06/2021       2117   \n",
       "4         0                         NaN  18/06/2021        762   \n",
       "\n",
       "   is_user_verified  favorite_count  in_reply_to_status_id       keyword  \\\n",
       "0             False               0                    NaN  #blackmirror   \n",
       "1             False               6                    NaN  #blackmirror   \n",
       "2             False               0                    NaN  #blackmirror   \n",
       "3             False               8                    NaN  #blackmirror   \n",
       "4             False               5                    NaN  #blackmirror   \n",
       "\n",
       "  language                                              site  \n",
       "0       en  date post corona\\2021-06-18_en_#blackmirror.json  \n",
       "1       en  date post corona\\2021-06-18_en_#blackmirror.json  \n",
       "2       en  date post corona\\2021-06-18_en_#blackmirror.json  \n",
       "3       en  date post corona\\2021-06-18_en_#blackmirror.json  \n",
       "4       en  date post corona\\2021-06-18_en_#blackmirror.json  "
      ],
      "text/html": "<div>\n<style scoped>\n    .dataframe tbody tr th:only-of-type {\n        vertical-align: middle;\n    }\n\n    .dataframe tbody tr th {\n        vertical-align: top;\n    }\n\n    .dataframe thead th {\n        text-align: right;\n    }\n</style>\n<table border=\"1\" class=\"dataframe\">\n  <thead>\n    <tr style=\"text-align: right;\">\n      <th></th>\n      <th>user_id</th>\n      <th>user_statuses</th>\n      <th>name</th>\n      <th>tweet</th>\n      <th>retweets</th>\n      <th>location</th>\n      <th>created</th>\n      <th>followers</th>\n      <th>is_user_verified</th>\n      <th>favorite_count</th>\n      <th>in_reply_to_status_id</th>\n      <th>keyword</th>\n      <th>language</th>\n      <th>site</th>\n    </tr>\n  </thead>\n  <tbody>\n    <tr>\n      <th>0</th>\n      <td>2.730776e+07</td>\n      <td>50931</td>\n      <td>AppelquistP</td>\n      <td>Damn I thought I was finally in the #Matrix or #blackmirror or #Aliens landed and this was their way of a soft opening...\\nNow, I appreciate #Interns even more.. https://t.co/AjdTC8V6tq</td>\n      <td>0</td>\n      <td>OZ</td>\n      <td>18/06/2021</td>\n      <td>130</td>\n      <td>False</td>\n      <td>0</td>\n      <td>NaN</td>\n      <td>#blackmirror</td>\n      <td>en</td>\n      <td>date post corona\\2021-06-18_en_#blackmirror.json</td>\n    </tr>\n    <tr>\n      <th>1</th>\n      <td>2.880588e+09</td>\n      <td>27578</td>\n      <td>kaarnama13</td>\n      <td>â€œNosediveâ€ episode from #blackmirror gets closer to reality with kencil culture</td>\n      <td>0</td>\n      <td>Aage se right</td>\n      <td>18/06/2021</td>\n      <td>669</td>\n      <td>False</td>\n      <td>6</td>\n      <td>NaN</td>\n      <td>#blackmirror</td>\n      <td>en</td>\n      <td>date post corona\\2021-06-18_en_#blackmirror.json</td>\n    </tr>\n    <tr>\n      <th>2</th>\n      <td>2.370116e+09</td>\n      <td>115767</td>\n      <td>Niggvtivity</td>\n      <td>I've just watched episode S03 | E05 of Black Mirror! #BlackMirror https://t.co/gYm02z0pa4 #tvtime</td>\n      <td>0</td>\n      <td>Bonneuil-sur-Marne, France</td>\n      <td>18/06/2021</td>\n      <td>795</td>\n      <td>False</td>\n      <td>0</td>\n      <td>NaN</td>\n      <td>#blackmirror</td>\n      <td>en</td>\n      <td>date post corona\\2021-06-18_en_#blackmirror.json</td>\n    </tr>\n    <tr>\n      <th>3</th>\n      <td>4.817271e+07</td>\n      <td>4971</td>\n      <td>DystopicRedhead</td>\n      <td>The perfect description of the #Tories and their voters by one of my favourite screenwriters in the whole ðŸŒŽ,  the Mastermind behind #BlackMirror, Charlie Brooker \\n\\n#FBPE #FBPA #FBPPR #ToriesOut \\n#ToryCriminals https://t.co/W8buFjRf1b</td>\n      <td>4</td>\n      <td>United Kingdom</td>\n      <td>18/06/2021</td>\n      <td>2117</td>\n      <td>False</td>\n      <td>8</td>\n      <td>NaN</td>\n      <td>#blackmirror</td>\n      <td>en</td>\n      <td>date post corona\\2021-06-18_en_#blackmirror.json</td>\n    </tr>\n    <tr>\n      <th>4</th>\n      <td>1.402080e+18</td>\n      <td>13</td>\n      <td>smash_media_us</td>\n      <td>ã€ #ONEUS Ã— #smash. ã€‘\\n\\nONEUS is on now smash.â£ï¸\\n\\nNew song #BLACKMIRROR is on smash. exclusive vertical music video!\\n\\nClick here to watchâ¬‡ï¸\\nhttps://t.co/Uh9mE40PCx</td>\n      <td>0</td>\n      <td>NaN</td>\n      <td>18/06/2021</td>\n      <td>762</td>\n      <td>False</td>\n      <td>5</td>\n      <td>NaN</td>\n      <td>#blackmirror</td>\n      <td>en</td>\n      <td>date post corona\\2021-06-18_en_#blackmirror.json</td>\n    </tr>\n  </tbody>\n</table>\n</div>"
     },
     "metadata": {},
     "execution_count": 32
    }
   ],
   "source": [
    "df = pd.read_csv('Data/aftercorona.csv')\n",
    "df.head()"
   ]
  },
  {
   "cell_type": "code",
   "execution_count": 34,
   "metadata": {},
   "outputs": [
    {
     "output_type": "execute_result",
     "data": {
      "text/plain": [
       "Index(['user_id', 'user_statuses', 'name', 'tweet', 'retweets', 'location',\n",
       "       'created', 'followers', 'is_user_verified', 'favorite_count',\n",
       "       'in_reply_to_status_id', 'keyword', 'language', 'site'],\n",
       "      dtype='object')"
      ]
     },
     "metadata": {},
     "execution_count": 34
    }
   ],
   "source": [
    "df.columns"
   ]
  },
  {
   "cell_type": "code",
   "execution_count": 35,
   "metadata": {},
   "outputs": [
    {
     "output_type": "execute_result",
     "data": {
      "text/plain": [
       "(1735, 14)"
      ]
     },
     "metadata": {},
     "execution_count": 35
    }
   ],
   "source": [
    "df.shape"
   ]
  },
  {
   "cell_type": "code",
   "execution_count": 36,
   "metadata": {},
   "outputs": [],
   "source": [
    "def clean_complete_vader(tweet):\n",
    "    \"\"\"\n",
    "    tweet: pandas series\n",
    "    prepares tweets complete cleaning for further lemmatization and dering embeddings\n",
    "    \"\"\"\n",
    "    pat = r\"(\\\\n)|(@\\w*)|((www\\.[^\\s]+)|(https?://[^\\s]+))\"\n",
    "    tweet = tweet.str.replace(pat, '')\n",
    "\n",
    "    \n",
    "    #replace emoticons with words\n",
    "    #SMILEYS = {\":-(\":\"sad\", \":‑)\":\"smiley\", \":-P\":\"playfullness\", \":-/\":'confused'}\n",
    "    # tweet = tweet.str.replace(r':-\\)', ' smile')\n",
    "    # tweet = tweet.str.replace(r':-\\(', ' sad')\n",
    "    # tweet = tweet.str.replace(r':-\\/', ' confused')\n",
    "    # tweet = tweet.str.replace(r':-P', ' playfullness')\n",
    "\n",
    "    #delete \\xa\n",
    "    tweet = tweet.str.replace('\\xa0', '')\n",
    "    tweet = tweet.str.replace('&amp', '')\n",
    "    tweet = tweet.str.replace('\\n', '')\n",
    "    tweet = tweet.str.replace('\"', '')\n",
    "    tweet = tweet.str.replace('ℐℓ٥ﻻﻉ√٥υ', '')\n",
    "\n",
    "    #delete numbers\n",
    "    tweet = [strip_numeric(c) for c in tweet]\n",
    "\n",
    "    #replacing emojies with descriptions '❤️-> red heart'\n",
    "    #  tweet = [demoji.replace_with_desc(c, ' ') for c in tweet]]\n",
    "\n",
    "    #remove stop words\n",
    "    tweet = [remove_stopwords(c) for c in tweet]\n",
    "\n",
    "    #remove short words\n",
    "    tweet = [strip_short(c) for c in tweet]\n",
    "\n",
    "    #remove mult whitespaces\n",
    "    tweet = [strip_multiple_whitespaces(c) for c in tweet]\n",
    "\n",
    "    return tweet\n"
   ]
  },
  {
   "cell_type": "code",
   "execution_count": 37,
   "metadata": {},
   "outputs": [],
   "source": [
    "def lemmatize(tweet):\n",
    "    '''\n",
    "    tweet: pandas series\n",
    "    should be applied on the cleaned tweets to transform words to their initial base form.\n",
    "    For example: suggests -> suggest, deliveries -> delivery\n",
    "    '''\n",
    "    nlp = spacy.load(\"en_core_web_sm\")\n",
    "    tweet = [nlp(c) for c in tweet]\n",
    "    tweet = [\" \".join([token.lemma_ for token in t]) for t in tweet]\n",
    "    return tweet"
   ]
  },
  {
   "cell_type": "code",
   "execution_count": 38,
   "metadata": {},
   "outputs": [],
   "source": [
    "import spacy\n",
    "df['tweet'] = clean_complete_vader(df.tweet)\n",
    "df['tweet'] = lemmatize(df.tweet)\n"
   ]
  },
  {
   "cell_type": "code",
   "execution_count": 39,
   "metadata": {},
   "outputs": [
    {
     "output_type": "execute_result",
     "data": {
      "text/plain": [
       "        user_id  user_statuses             name  \\\n",
       "0  2.730776e+07          50931      AppelquistP   \n",
       "1  2.880588e+09          27578       kaarnama13   \n",
       "2  2.370116e+09         115767      Niggvtivity   \n",
       "3  4.817271e+07           4971  DystopicRedhead   \n",
       "4  1.402080e+18             13   smash_media_us   \n",
       "\n",
       "                                                                                                                                                             tweet  \\\n",
       "0                                                    Damn think finally # matrix # blackmirror # alien land way soft opening ... now , appreciate # intern more ..   \n",
       "1                                                                                            â€œNosediveâ€ episode # blackmirror get close reality kencil culture   \n",
       "2                                                                                                        I 've watch episode Black Mirror ! # BlackMirror # tvtime   \n",
       "3  the perfect description # tory voter favourite screenwriter ðÿœž , mastermind # BlackMirror , Charlie Brooker # FBPE # FBPA # FBPPR # ToriesOut # ToryCriminals   \n",
       "4                                       ã€ # ONEUS # smash . ã€‘ONEUS smash.â£ï¸New song # blackmirror smash . exclusive vertical music video!click watchâ¬‡ï¸   \n",
       "\n",
       "   retweets                    location     created  followers  \\\n",
       "0         0                          OZ  18/06/2021        130   \n",
       "1         0               Aage se right  18/06/2021        669   \n",
       "2         0  Bonneuil-sur-Marne, France  18/06/2021        795   \n",
       "3         4              United Kingdom  18/06/2021       2117   \n",
       "4         0                         NaN  18/06/2021        762   \n",
       "\n",
       "   is_user_verified  favorite_count  in_reply_to_status_id       keyword  \\\n",
       "0             False               0                    NaN  #blackmirror   \n",
       "1             False               6                    NaN  #blackmirror   \n",
       "2             False               0                    NaN  #blackmirror   \n",
       "3             False               8                    NaN  #blackmirror   \n",
       "4             False               5                    NaN  #blackmirror   \n",
       "\n",
       "  language                                              site  \n",
       "0       en  date post corona\\2021-06-18_en_#blackmirror.json  \n",
       "1       en  date post corona\\2021-06-18_en_#blackmirror.json  \n",
       "2       en  date post corona\\2021-06-18_en_#blackmirror.json  \n",
       "3       en  date post corona\\2021-06-18_en_#blackmirror.json  \n",
       "4       en  date post corona\\2021-06-18_en_#blackmirror.json  "
      ],
      "text/html": "<div>\n<style scoped>\n    .dataframe tbody tr th:only-of-type {\n        vertical-align: middle;\n    }\n\n    .dataframe tbody tr th {\n        vertical-align: top;\n    }\n\n    .dataframe thead th {\n        text-align: right;\n    }\n</style>\n<table border=\"1\" class=\"dataframe\">\n  <thead>\n    <tr style=\"text-align: right;\">\n      <th></th>\n      <th>user_id</th>\n      <th>user_statuses</th>\n      <th>name</th>\n      <th>tweet</th>\n      <th>retweets</th>\n      <th>location</th>\n      <th>created</th>\n      <th>followers</th>\n      <th>is_user_verified</th>\n      <th>favorite_count</th>\n      <th>in_reply_to_status_id</th>\n      <th>keyword</th>\n      <th>language</th>\n      <th>site</th>\n    </tr>\n  </thead>\n  <tbody>\n    <tr>\n      <th>0</th>\n      <td>2.730776e+07</td>\n      <td>50931</td>\n      <td>AppelquistP</td>\n      <td>Damn think finally # matrix # blackmirror # alien land way soft opening ... now , appreciate # intern more ..</td>\n      <td>0</td>\n      <td>OZ</td>\n      <td>18/06/2021</td>\n      <td>130</td>\n      <td>False</td>\n      <td>0</td>\n      <td>NaN</td>\n      <td>#blackmirror</td>\n      <td>en</td>\n      <td>date post corona\\2021-06-18_en_#blackmirror.json</td>\n    </tr>\n    <tr>\n      <th>1</th>\n      <td>2.880588e+09</td>\n      <td>27578</td>\n      <td>kaarnama13</td>\n      <td>â€œNosediveâ€ episode # blackmirror get close reality kencil culture</td>\n      <td>0</td>\n      <td>Aage se right</td>\n      <td>18/06/2021</td>\n      <td>669</td>\n      <td>False</td>\n      <td>6</td>\n      <td>NaN</td>\n      <td>#blackmirror</td>\n      <td>en</td>\n      <td>date post corona\\2021-06-18_en_#blackmirror.json</td>\n    </tr>\n    <tr>\n      <th>2</th>\n      <td>2.370116e+09</td>\n      <td>115767</td>\n      <td>Niggvtivity</td>\n      <td>I 've watch episode Black Mirror ! # BlackMirror # tvtime</td>\n      <td>0</td>\n      <td>Bonneuil-sur-Marne, France</td>\n      <td>18/06/2021</td>\n      <td>795</td>\n      <td>False</td>\n      <td>0</td>\n      <td>NaN</td>\n      <td>#blackmirror</td>\n      <td>en</td>\n      <td>date post corona\\2021-06-18_en_#blackmirror.json</td>\n    </tr>\n    <tr>\n      <th>3</th>\n      <td>4.817271e+07</td>\n      <td>4971</td>\n      <td>DystopicRedhead</td>\n      <td>the perfect description # tory voter favourite screenwriter ðÿœž , mastermind # BlackMirror , Charlie Brooker # FBPE # FBPA # FBPPR # ToriesOut # ToryCriminals</td>\n      <td>4</td>\n      <td>United Kingdom</td>\n      <td>18/06/2021</td>\n      <td>2117</td>\n      <td>False</td>\n      <td>8</td>\n      <td>NaN</td>\n      <td>#blackmirror</td>\n      <td>en</td>\n      <td>date post corona\\2021-06-18_en_#blackmirror.json</td>\n    </tr>\n    <tr>\n      <th>4</th>\n      <td>1.402080e+18</td>\n      <td>13</td>\n      <td>smash_media_us</td>\n      <td>ã€ # ONEUS # smash . ã€‘ONEUS smash.â£ï¸New song # blackmirror smash . exclusive vertical music video!click watchâ¬‡ï¸</td>\n      <td>0</td>\n      <td>NaN</td>\n      <td>18/06/2021</td>\n      <td>762</td>\n      <td>False</td>\n      <td>5</td>\n      <td>NaN</td>\n      <td>#blackmirror</td>\n      <td>en</td>\n      <td>date post corona\\2021-06-18_en_#blackmirror.json</td>\n    </tr>\n  </tbody>\n</table>\n</div>"
     },
     "metadata": {},
     "execution_count": 39
    }
   ],
   "source": [
    "df.head()"
   ]
  },
  {
   "cell_type": "code",
   "execution_count": 40,
   "metadata": {},
   "outputs": [],
   "source": [
    "df = df[['user_id','tweet', 'retweets', 'location',\n",
    "       'created', 'followers', 'keyword', 'language']]"
   ]
  },
  {
   "cell_type": "code",
   "execution_count": 43,
   "metadata": {},
   "outputs": [
    {
     "output_type": "execute_result",
     "data": {
      "text/plain": [
       "      user_id  \\\n",
       "0  27307763.0   \n",
       "\n",
       "                                                                                                           tweet  \\\n",
       "0  Damn think finally # matrix # blackmirror # alien land way soft opening ... now , appreciate # intern more ..   \n",
       "\n",
       "   retweets location     created  followers       keyword language  \n",
       "0         0       OZ  18/06/2021        130  #blackmirror       en  "
      ],
      "text/html": "<div>\n<style scoped>\n    .dataframe tbody tr th:only-of-type {\n        vertical-align: middle;\n    }\n\n    .dataframe tbody tr th {\n        vertical-align: top;\n    }\n\n    .dataframe thead th {\n        text-align: right;\n    }\n</style>\n<table border=\"1\" class=\"dataframe\">\n  <thead>\n    <tr style=\"text-align: right;\">\n      <th></th>\n      <th>user_id</th>\n      <th>tweet</th>\n      <th>retweets</th>\n      <th>location</th>\n      <th>created</th>\n      <th>followers</th>\n      <th>keyword</th>\n      <th>language</th>\n    </tr>\n  </thead>\n  <tbody>\n    <tr>\n      <th>0</th>\n      <td>27307763.0</td>\n      <td>Damn think finally # matrix # blackmirror # alien land way soft opening ... now , appreciate # intern more ..</td>\n      <td>0</td>\n      <td>OZ</td>\n      <td>18/06/2021</td>\n      <td>130</td>\n      <td>#blackmirror</td>\n      <td>en</td>\n    </tr>\n  </tbody>\n</table>\n</div>"
     },
     "metadata": {},
     "execution_count": 43
    }
   ],
   "source": [
    "pd.set_option('display.max_colwidth', None)\n",
    "df.head(1)"
   ]
  },
  {
   "cell_type": "code",
   "execution_count": 22,
   "metadata": {},
   "outputs": [],
   "source": [
    "# df.to_csv('to_hive_aftercorona.csv', sep=',', header=False)"
   ]
  },
  {
   "cell_type": "code",
   "execution_count": null,
   "metadata": {},
   "outputs": [],
   "source": []
  }
 ]
}