{
 "metadata": {
  "language_info": {
   "codemirror_mode": {
    "name": "ipython",
    "version": 3
   },
   "file_extension": ".py",
   "mimetype": "text/x-python",
   "name": "python",
   "nbconvert_exporter": "python",
   "pygments_lexer": "ipython3",
   "version": "3.9.5"
  },
  "orig_nbformat": 4,
  "kernelspec": {
   "name": "python3",
   "display_name": "Python 3.9.5 64-bit (windows store)"
  },
  "interpreter": {
   "hash": "08bcf114b6799a788c3e4c5366ee28d230c9527aecb5fe8828812464fcb419b7"
  }
 },
 "nbformat": 4,
 "nbformat_minor": 2,
 "cells": [
  {
   "source": [
    "The notebook gives us the first impression regarding the columns, statistics, missing values, the characteristics in the columns and the size number for each json series file . "
   ],
   "cell_type": "markdown",
   "metadata": {}
  },
  {
   "cell_type": "code",
   "execution_count": 30,
   "metadata": {},
   "outputs": [],
   "source": [
    "# import packages\n",
    "import pandas as pd \n",
    "import numpy as np\n",
    "import seaborn as sns\n",
    "import matplotlib.pyplot as plt"
   ]
  },
  {
   "cell_type": "code",
   "execution_count": 2,
   "metadata": {},
   "outputs": [],
   "source": [
    "# create df out of csv\n",
    "df = pd.read_csv('Data/aftercorona.csv')"
   ]
  },
  {
   "cell_type": "code",
   "execution_count": 4,
   "metadata": {},
   "outputs": [
    {
     "output_type": "stream",
     "name": "stdout",
     "text": [
      "(1735, 14)\nIndex(['user_id', 'user_statuses', 'name', 'tweet', 'retweets', 'location',\n       'created', 'followers', 'is_user_verified', 'favorite_count',\n       'in_reply_to_status_id', 'keyword', 'language', 'site'],\n      dtype='object')\n"
     ]
    }
   ],
   "source": [
    "# overview of df\n",
    "print(df.shape)\n",
    "print(df.columns)"
   ]
  },
  {
   "cell_type": "code",
   "execution_count": 7,
   "metadata": {},
   "outputs": [
    {
     "output_type": "stream",
     "name": "stdout",
     "text": [
      "<class 'pandas.core.frame.DataFrame'>\nRangeIndex: 1735 entries, 0 to 1734\nData columns (total 14 columns):\n #   Column                 Non-Null Count  Dtype  \n---  ------                 --------------  -----  \n 0   user_id                1735 non-null   float64\n 1   user_statuses          1735 non-null   int64  \n 2   name                   1735 non-null   object \n 3   tweet                  1735 non-null   object \n 4   retweets               1735 non-null   int64  \n 5   location               1215 non-null   object \n 6   created                1735 non-null   object \n 7   followers              1735 non-null   int64  \n 8   is_user_verified       1735 non-null   bool   \n 9   favorite_count         1735 non-null   int64  \n 10  in_reply_to_status_id  200 non-null    float64\n 11  keyword                1735 non-null   object \n 12  language               1735 non-null   object \n 13  site                   1735 non-null   object \ndtypes: bool(1), float64(2), int64(4), object(7)\nmemory usage: 178.0+ KB\n"
     ]
    }
   ],
   "source": [
    "df.info()"
   ]
  },
  {
   "cell_type": "code",
   "execution_count": 6,
   "metadata": {},
   "outputs": [
    {
     "output_type": "execute_result",
     "data": {
      "text/plain": [
       "            user_id  user_statuses     retweets     followers  favorite_count  \\\n",
       "count  1.735000e+03    1735.000000  1735.000000  1.735000e+03     1735.000000   \n",
       "mean   5.671175e+17   50592.720461     1.484726  2.337823e+04       10.888184   \n",
       "std    5.956146e+17  120518.291352    22.219511  1.904985e+05      163.218703   \n",
       "min    8.090990e+05       1.000000     0.000000  0.000000e+00        0.000000   \n",
       "25%    3.179600e+08     962.000000     0.000000  6.400000e+01        0.000000   \n",
       "50%    4.838521e+09    6909.000000     0.000000  4.050000e+02        0.000000   \n",
       "75%    1.196900e+18   29123.000000     0.000000  1.514000e+03        2.000000   \n",
       "max    1.405830e+18  914755.000000   895.000000  4.611925e+06     6125.000000   \n",
       "\n",
       "       in_reply_to_status_id  \n",
       "count           2.000000e+02  \n",
       "mean            1.404600e+18  \n",
       "std             2.014620e+16  \n",
       "min             1.130000e+18  \n",
       "25%             1.400000e+18  \n",
       "50%             1.410000e+18  \n",
       "75%             1.410000e+18  \n",
       "max             1.410000e+18  "
      ],
      "text/html": "<div>\n<style scoped>\n    .dataframe tbody tr th:only-of-type {\n        vertical-align: middle;\n    }\n\n    .dataframe tbody tr th {\n        vertical-align: top;\n    }\n\n    .dataframe thead th {\n        text-align: right;\n    }\n</style>\n<table border=\"1\" class=\"dataframe\">\n  <thead>\n    <tr style=\"text-align: right;\">\n      <th></th>\n      <th>user_id</th>\n      <th>user_statuses</th>\n      <th>retweets</th>\n      <th>followers</th>\n      <th>favorite_count</th>\n      <th>in_reply_to_status_id</th>\n    </tr>\n  </thead>\n  <tbody>\n    <tr>\n      <th>count</th>\n      <td>1.735000e+03</td>\n      <td>1735.000000</td>\n      <td>1735.000000</td>\n      <td>1.735000e+03</td>\n      <td>1735.000000</td>\n      <td>2.000000e+02</td>\n    </tr>\n    <tr>\n      <th>mean</th>\n      <td>5.671175e+17</td>\n      <td>50592.720461</td>\n      <td>1.484726</td>\n      <td>2.337823e+04</td>\n      <td>10.888184</td>\n      <td>1.404600e+18</td>\n    </tr>\n    <tr>\n      <th>std</th>\n      <td>5.956146e+17</td>\n      <td>120518.291352</td>\n      <td>22.219511</td>\n      <td>1.904985e+05</td>\n      <td>163.218703</td>\n      <td>2.014620e+16</td>\n    </tr>\n    <tr>\n      <th>min</th>\n      <td>8.090990e+05</td>\n      <td>1.000000</td>\n      <td>0.000000</td>\n      <td>0.000000e+00</td>\n      <td>0.000000</td>\n      <td>1.130000e+18</td>\n    </tr>\n    <tr>\n      <th>25%</th>\n      <td>3.179600e+08</td>\n      <td>962.000000</td>\n      <td>0.000000</td>\n      <td>6.400000e+01</td>\n      <td>0.000000</td>\n      <td>1.400000e+18</td>\n    </tr>\n    <tr>\n      <th>50%</th>\n      <td>4.838521e+09</td>\n      <td>6909.000000</td>\n      <td>0.000000</td>\n      <td>4.050000e+02</td>\n      <td>0.000000</td>\n      <td>1.410000e+18</td>\n    </tr>\n    <tr>\n      <th>75%</th>\n      <td>1.196900e+18</td>\n      <td>29123.000000</td>\n      <td>0.000000</td>\n      <td>1.514000e+03</td>\n      <td>2.000000</td>\n      <td>1.410000e+18</td>\n    </tr>\n    <tr>\n      <th>max</th>\n      <td>1.405830e+18</td>\n      <td>914755.000000</td>\n      <td>895.000000</td>\n      <td>4.611925e+06</td>\n      <td>6125.000000</td>\n      <td>1.410000e+18</td>\n    </tr>\n  </tbody>\n</table>\n</div>"
     },
     "metadata": {},
     "execution_count": 6
    }
   ],
   "source": [
    "# statistics\n",
    "df.describe()"
   ]
  },
  {
   "cell_type": "code",
   "execution_count": 8,
   "metadata": {},
   "outputs": [
    {
     "output_type": "execute_result",
     "data": {
      "text/plain": [
       "True"
      ]
     },
     "metadata": {},
     "execution_count": 8
    }
   ],
   "source": [
    "# missing values\n",
    "df.isnull().values.any()"
   ]
  },
  {
   "cell_type": "code",
   "execution_count": 9,
   "metadata": {},
   "outputs": [
    {
     "output_type": "execute_result",
     "data": {
      "text/plain": [
       "2055"
      ]
     },
     "metadata": {},
     "execution_count": 9
    }
   ],
   "source": [
    "df.isnull().sum().sum()"
   ]
  },
  {
   "cell_type": "code",
   "execution_count": 17,
   "metadata": {},
   "outputs": [],
   "source": [
    "# missing values in location column because it is not mandatory for the user \n",
    "check_nan = df['location'].isnull()"
   ]
  },
  {
   "cell_type": "code",
   "execution_count": 19,
   "metadata": {},
   "outputs": [
    {
     "output_type": "execute_result",
     "data": {
      "text/plain": [
       "SÃ£o Paulo                  41\n",
       "Glenn Allen, VA             19\n",
       "London                      19\n",
       "Everywhere                  18\n",
       "United Kingdom              16\n",
       "                            ..\n",
       "Manhattan, NY                1\n",
       "ðŸ“®alevibestm@gmail.com     1\n",
       "Taunton, Somerset            1\n",
       "kpassa                       1\n",
       "Even further up my ass       1\n",
       "Name: location, Length: 665, dtype: int64"
      ]
     },
     "metadata": {},
     "execution_count": 19
    }
   ],
   "source": [
    "# poor data quality \n",
    "df.location.value_counts()"
   ]
  },
  {
   "cell_type": "code",
   "execution_count": 18,
   "metadata": {},
   "outputs": [
    {
     "output_type": "stream",
     "name": "stdout",
     "text": [
      "Number of NaN values present: 520\n"
     ]
    }
   ],
   "source": [
    "count_nan = df['location'].isnull().sum()\n",
    "print('Number of NaN values present: ' + str(count_nan))"
   ]
  },
  {
   "cell_type": "code",
   "execution_count": 20,
   "metadata": {},
   "outputs": [
    {
     "output_type": "execute_result",
     "data": {
      "text/plain": [
       "1.410000e+18    120\n",
       "1.400000e+18     78\n",
       "1.390000e+18      1\n",
       "1.130000e+18      1\n",
       "Name: in_reply_to_status_id, dtype: int64"
      ]
     },
     "metadata": {},
     "execution_count": 20
    }
   ],
   "source": [
    "# 4 encodings\n",
    "df.in_reply_to_status_id.value_counts()"
   ]
  },
  {
   "cell_type": "code",
   "execution_count": 22,
   "metadata": {},
   "outputs": [
    {
     "output_type": "execute_result",
     "data": {
      "text/plain": [
       "1228      1\n",
       "349       1\n",
       "348       1\n",
       "347       1\n",
       "344       1\n",
       "         ..\n",
       "1        21\n",
       "29       24\n",
       "2        30\n",
       "0        34\n",
       "10223    41\n",
       "Name: followers, Length: 766, dtype: int64"
      ]
     },
     "metadata": {},
     "execution_count": 22
    }
   ],
   "source": [
    "# important followers\n",
    "df.followers.value_counts().sort_values()"
   ]
  },
  {
   "cell_type": "code",
   "execution_count": 24,
   "metadata": {},
   "outputs": [
    {
     "output_type": "execute_result",
     "data": {
      "text/plain": [
       "0      1366\n",
       "1       181\n",
       "2        53\n",
       "3        38\n",
       "4        24\n",
       "5        20\n",
       "6         8\n",
       "7         7\n",
       "8         5\n",
       "9         4\n",
       "14        3\n",
       "15        3\n",
       "23        3\n",
       "10        2\n",
       "13        2\n",
       "22        2\n",
       "61        1\n",
       "64        1\n",
       "144       1\n",
       "114       1\n",
       "47        1\n",
       "49        1\n",
       "19        1\n",
       "39        1\n",
       "35        1\n",
       "29        1\n",
       "28        1\n",
       "25        1\n",
       "11        1\n",
       "895       1\n",
       "Name: retweets, dtype: int64"
      ]
     },
     "metadata": {},
     "execution_count": 24
    }
   ],
   "source": [
    "# important retweets\n",
    "df.retweets.value_counts()"
   ]
  },
  {
   "cell_type": "code",
   "execution_count": 25,
   "metadata": {},
   "outputs": [
    {
     "output_type": "execute_result",
     "data": {
      "text/plain": [
       "en    1735\n",
       "Name: language, dtype: int64"
      ]
     },
     "metadata": {},
     "execution_count": 25
    }
   ],
   "source": [
    "# important retweets\n",
    "df.language.value_counts()"
   ]
  },
  {
   "cell_type": "code",
   "execution_count": 26,
   "metadata": {},
   "outputs": [
    {
     "output_type": "execute_result",
     "data": {
      "text/plain": [
       "#gameofthrones       200\n",
       "#breakingbad         200\n",
       "#prisonbreak         200\n",
       "#thewalkingdead      200\n",
       "#riverdale           200\n",
       "#strangerthings      200\n",
       "#moneyheist          200\n",
       "#blackmirror         144\n",
       "#thebigbangtheory    101\n",
       "#narcos               90\n",
       "Name: keyword, dtype: int64"
      ]
     },
     "metadata": {},
     "execution_count": 26
    }
   ],
   "source": [
    "df.keyword.value_counts()"
   ]
  },
  {
   "cell_type": "code",
   "execution_count": 28,
   "metadata": {},
   "outputs": [
    {
     "output_type": "execute_result",
     "data": {
      "text/plain": [
       "0       890\n",
       "1       302\n",
       "2       159\n",
       "3        62\n",
       "4        49\n",
       "       ... \n",
       "56        1\n",
       "57        1\n",
       "58        1\n",
       "62        1\n",
       "6125      1\n",
       "Name: favorite_count, Length: 75, dtype: int64"
      ]
     },
     "metadata": {},
     "execution_count": 28
    }
   ],
   "source": [
    "df.favorite_count.value_counts()"
   ]
  },
  {
   "cell_type": "code",
   "execution_count": 27,
   "metadata": {},
   "outputs": [
    {
     "output_type": "execute_result",
     "data": {
      "text/plain": [
       "date post corona\\2021-06-18_en_#breakingbad.json         200\n",
       "date post corona\\2021-06-18_en_#moneyheist.json          200\n",
       "date post corona\\2021-06-18_en_#thewalkingdead.json      200\n",
       "date post corona\\2021-06-18_en_#gameofthrones.json       200\n",
       "date post corona\\2021-06-18_en_#prisonbreak.json         200\n",
       "date post corona\\2021-06-18_en_#strangerthings.json      200\n",
       "date post corona\\2021-06-18_en_#riverdale.json           200\n",
       "date post corona\\2021-06-18_en_#blackmirror.json         144\n",
       "date post corona\\2021-06-18_en_#thebigbangtheory.json    101\n",
       "date post corona\\2021-06-18_en_#narcos.json               90\n",
       "Name: site, dtype: int64"
      ]
     },
     "metadata": {},
     "execution_count": 27
    }
   ],
   "source": [
    "df.site.value_counts()"
   ]
  },
  {
   "cell_type": "code",
   "execution_count": null,
   "metadata": {},
   "outputs": [],
   "source": []
  }
 ]
}