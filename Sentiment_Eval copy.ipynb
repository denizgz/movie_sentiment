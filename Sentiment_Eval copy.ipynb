{
 "cells": [
  {
   "cell_type": "code",
   "execution_count": 1,
   "source": [
    "import sys\n",
    "sys.path.append('../')\n",
    "import pandas as pd\n",
    "import seaborn as sns\n",
    "import numpy as np\n",
    "import matplotlib.pyplot as plt\n",
    "from sklearn.metrics import classification_report\n",
    "\n",
    "# reference : https://github.com/cjhutto/vaderSentiment"
   ],
   "outputs": [],
   "metadata": {}
  },
  {
   "cell_type": "code",
   "execution_count": 2,
   "source": [
    "data = pd.read_csv('Data/aftercorona.csv', sep = ',')\n",
    "data.head()"
   ],
   "outputs": [
    {
     "output_type": "execute_result",
     "data": {
      "text/plain": [
       "        user_id  user_statuses             name  \\\n",
       "0  2.730776e+07          50931      AppelquistP   \n",
       "1  2.880588e+09          27578       kaarnama13   \n",
       "2  2.370116e+09         115767      Niggvtivity   \n",
       "3  4.817271e+07           4971  DystopicRedhead   \n",
       "4  1.402080e+18             13   smash_media_us   \n",
       "\n",
       "                                               tweet  retweets  \\\n",
       "0  Damn I thought I was finally in the #Matrix or...         0   \n",
       "1  â€œNosediveâ€ episode from #blackmirror gets ...         0   \n",
       "2  I've just watched episode S03 | E05 of Black M...         0   \n",
       "3  The perfect description of the #Tories and the...         4   \n",
       "4  ã€ #ONEUS Ã— #smash. ã€‘\\n\\nONEUS is on now s...         0   \n",
       "\n",
       "                     location     created  followers  is_user_verified  \\\n",
       "0                          OZ  18/06/2021        130             False   \n",
       "1               Aage se right  18/06/2021        669             False   \n",
       "2  Bonneuil-sur-Marne, France  18/06/2021        795             False   \n",
       "3              United Kingdom  18/06/2021       2117             False   \n",
       "4                         NaN  18/06/2021        762             False   \n",
       "\n",
       "   favorite_count  in_reply_to_status_id       keyword language  \\\n",
       "0               0                    NaN  #blackmirror       en   \n",
       "1               6                    NaN  #blackmirror       en   \n",
       "2               0                    NaN  #blackmirror       en   \n",
       "3               8                    NaN  #blackmirror       en   \n",
       "4               5                    NaN  #blackmirror       en   \n",
       "\n",
       "                                               site  \n",
       "0  date post corona\\2021-06-18_en_#blackmirror.json  \n",
       "1  date post corona\\2021-06-18_en_#blackmirror.json  \n",
       "2  date post corona\\2021-06-18_en_#blackmirror.json  \n",
       "3  date post corona\\2021-06-18_en_#blackmirror.json  \n",
       "4  date post corona\\2021-06-18_en_#blackmirror.json  "
      ],
      "text/html": "<div>\n<style scoped>\n    .dataframe tbody tr th:only-of-type {\n        vertical-align: middle;\n    }\n\n    .dataframe tbody tr th {\n        vertical-align: top;\n    }\n\n    .dataframe thead th {\n        text-align: right;\n    }\n</style>\n<table border=\"1\" class=\"dataframe\">\n  <thead>\n    <tr style=\"text-align: right;\">\n      <th></th>\n      <th>user_id</th>\n      <th>user_statuses</th>\n      <th>name</th>\n      <th>tweet</th>\n      <th>retweets</th>\n      <th>location</th>\n      <th>created</th>\n      <th>followers</th>\n      <th>is_user_verified</th>\n      <th>favorite_count</th>\n      <th>in_reply_to_status_id</th>\n      <th>keyword</th>\n      <th>language</th>\n      <th>site</th>\n    </tr>\n  </thead>\n  <tbody>\n    <tr>\n      <th>0</th>\n      <td>2.730776e+07</td>\n      <td>50931</td>\n      <td>AppelquistP</td>\n      <td>Damn I thought I was finally in the #Matrix or...</td>\n      <td>0</td>\n      <td>OZ</td>\n      <td>18/06/2021</td>\n      <td>130</td>\n      <td>False</td>\n      <td>0</td>\n      <td>NaN</td>\n      <td>#blackmirror</td>\n      <td>en</td>\n      <td>date post corona\\2021-06-18_en_#blackmirror.json</td>\n    </tr>\n    <tr>\n      <th>1</th>\n      <td>2.880588e+09</td>\n      <td>27578</td>\n      <td>kaarnama13</td>\n      <td>â€œNosediveâ€ episode from #blackmirror gets ...</td>\n      <td>0</td>\n      <td>Aage se right</td>\n      <td>18/06/2021</td>\n      <td>669</td>\n      <td>False</td>\n      <td>6</td>\n      <td>NaN</td>\n      <td>#blackmirror</td>\n      <td>en</td>\n      <td>date post corona\\2021-06-18_en_#blackmirror.json</td>\n    </tr>\n    <tr>\n      <th>2</th>\n      <td>2.370116e+09</td>\n      <td>115767</td>\n      <td>Niggvtivity</td>\n      <td>I've just watched episode S03 | E05 of Black M...</td>\n      <td>0</td>\n      <td>Bonneuil-sur-Marne, France</td>\n      <td>18/06/2021</td>\n      <td>795</td>\n      <td>False</td>\n      <td>0</td>\n      <td>NaN</td>\n      <td>#blackmirror</td>\n      <td>en</td>\n      <td>date post corona\\2021-06-18_en_#blackmirror.json</td>\n    </tr>\n    <tr>\n      <th>3</th>\n      <td>4.817271e+07</td>\n      <td>4971</td>\n      <td>DystopicRedhead</td>\n      <td>The perfect description of the #Tories and the...</td>\n      <td>4</td>\n      <td>United Kingdom</td>\n      <td>18/06/2021</td>\n      <td>2117</td>\n      <td>False</td>\n      <td>8</td>\n      <td>NaN</td>\n      <td>#blackmirror</td>\n      <td>en</td>\n      <td>date post corona\\2021-06-18_en_#blackmirror.json</td>\n    </tr>\n    <tr>\n      <th>4</th>\n      <td>1.402080e+18</td>\n      <td>13</td>\n      <td>smash_media_us</td>\n      <td>ã€ #ONEUS Ã— #smash. ã€‘\\n\\nONEUS is on now s...</td>\n      <td>0</td>\n      <td>NaN</td>\n      <td>18/06/2021</td>\n      <td>762</td>\n      <td>False</td>\n      <td>5</td>\n      <td>NaN</td>\n      <td>#blackmirror</td>\n      <td>en</td>\n      <td>date post corona\\2021-06-18_en_#blackmirror.json</td>\n    </tr>\n  </tbody>\n</table>\n</div>"
     },
     "metadata": {},
     "execution_count": 2
    }
   ],
   "metadata": {}
  },
  {
   "cell_type": "code",
   "execution_count": 3,
   "source": [
    "shuffled_df = data.sample(frac=1, random_state= 42) # shuffle data for random tweets to look at"
   ],
   "outputs": [],
   "metadata": {}
  },
  {
   "cell_type": "code",
   "execution_count": 4,
   "source": [
    "# filter out line breaks, hat is easier for manually looking at the data afterwards...\n",
    "shuffled_df['tweet'] = shuffled_df.tweet.str.replace('\\n', '')\n",
    "shuffled_df['tweet'] = shuffled_df.tweet.str.replace('\\r', '')"
   ],
   "outputs": [],
   "metadata": {}
  },
  {
   "cell_type": "code",
   "execution_count": 5,
   "source": [
    " # filter out 50 first tweets from shuffled data\n",
    " shuffled_df[['tweet']].iloc[0:50]#.to_csv('Data/vader_eval.csv') "
   ],
   "outputs": [
    {
     "output_type": "execute_result",
     "data": {
      "text/plain": [
       "                                                  tweet\n",
       "907   Revisiting #Prisonbreak ... https://t.co/t1qeJ...\n",
       "135   Tags because I forgot: #ONEUS #ì›ì–´ìŠ¤ #Tomo...\n",
       "785   I've just watched episode S03 | E08 of Narcos!...\n",
       "1401  Rebel Robin: Surviving Hawkins by @Netflix @St...\n",
       "598   Tokyo is such a horrible character 0 character...\n",
       "931   The One We Really Knew Would Win Over A Jury. ...\n",
       "23    \"Have you ever seen a portal?\" Those who love ...\n",
       "1096  kisses like pink cotton candy... #riverdale #b...\n",
       "382   Word, Steelshanks lost Aeron Greyjoy! #GameOfT...\n",
       "585   Vote for you favorite international web series...\n",
       "1598  @NewsOfTheDead #TheWalkingDead S10 and #FearTW...\n",
       "806   ðŸ“· Stare into my eyes Saturday #ww84 #pedrop...\n",
       "413   Think carefully before you say them, for once ...\n",
       "394   Current situation in Valyria @ r/FreeFolk &gt;...\n",
       "1383  Omggg I want the new season! #StrangerThings h...\n",
       "1639  #TheWalkingDead star Norman Reedus joining #TW...\n",
       "532   The great thing about reading is that it broad...\n",
       "1730  It's getting harder every day to be a fan of @...\n",
       "1345  What will happen to Eleven in Stranger Things ...\n",
       "422   Tyrion's speech during the Trial scene ðŸ˜® ST...\n",
       "551   If arturito doesnâ€™t die in season 5, I m jum...\n",
       "979   â€œSomeday soon weâ€™re gonna drop that little...\n",
       "765   USA/Canada can now preorder PURE NARCO. Coming...\n",
       "1234  #Robin: I'M ROBIN...#StrangerThings https://t....\n",
       "810   @Icarus_Reloaded After a few back to back bing...\n",
       "1237  OMFG!! I SWEAR THIS PHOTO LEFT ME OUT OF BREAT...\n",
       "898   One more?#walterwhite #breakingbad #michaelsco...\n",
       "576            #MoneyHeist an ultimate web series. ðŸ‘\n",
       "706   Money Heist lovers where you at?#MoneyHeist5 #...\n",
       "730   Rule diya iss scene neðŸ’”BerlinðŸ˜¢Best webse...\n",
       "946   I've just watched episode S01 | E06 of Prison ...\n",
       "353   haha Tyrion go duhhhhh @ r/FreeFolk &gt; https...\n",
       "1655  Carol Season 11 #TheWalkingDead ðŸ–¤ https://t...\n",
       "552   Mostly Actors Actresses working for #Money  #D...\n",
       "937   I've just watched episode S01 | E14 of Prison ...\n",
       "1480      Kathy Bates em #TheBigBangTheory ðŸ˜ðŸ˜ðŸ˜\n",
       "555   Let's explore the lessons #MoneyHeist has taug...\n",
       "1677  That child was all she cared about in the worl...\n",
       "482   #GameOfThrones #CatTshirts The House of Felis ...\n",
       "819   https://t.co/v4oq7pdCY2Beautiful Emma Coronel,...\n",
       "298   \"Alright, tell you what. Both of you pull it o...\n",
       "1697  He was smiling in the last episode, welcome ba...\n",
       "1567  day 135: Rick GrimesðŸ§Ÿâ€â™‚ï¸ #TheWalkingD...\n",
       "888   Is it just me who thinks that #Locatelli looks...\n",
       "495   New! 2021 #gameofthrones  The Iron Anniversary...\n",
       "251   #BreakingBad Oh, I'm sorry, oh, the workstatio...\n",
       "1406  Man the new season of Stranger Things is takin...\n",
       "1616  Happy #ThrowbackThursday #TWDFamily #RickGrime...\n",
       "1325  I love so bad Stranger Things, so thany you ag...\n",
       "1312  Stranger Things 4 Set Photos Indicate A Rough ..."
      ],
      "text/html": "<div>\n<style scoped>\n    .dataframe tbody tr th:only-of-type {\n        vertical-align: middle;\n    }\n\n    .dataframe tbody tr th {\n        vertical-align: top;\n    }\n\n    .dataframe thead th {\n        text-align: right;\n    }\n</style>\n<table border=\"1\" class=\"dataframe\">\n  <thead>\n    <tr style=\"text-align: right;\">\n      <th></th>\n      <th>tweet</th>\n    </tr>\n  </thead>\n  <tbody>\n    <tr>\n      <th>907</th>\n      <td>Revisiting #Prisonbreak ... https://t.co/t1qeJ...</td>\n    </tr>\n    <tr>\n      <th>135</th>\n      <td>Tags because I forgot: #ONEUS #ì›ì–´ìŠ¤ #Tomo...</td>\n    </tr>\n    <tr>\n      <th>785</th>\n      <td>I've just watched episode S03 | E08 of Narcos!...</td>\n    </tr>\n    <tr>\n      <th>1401</th>\n      <td>Rebel Robin: Surviving Hawkins by @Netflix @St...</td>\n    </tr>\n    <tr>\n      <th>598</th>\n      <td>Tokyo is such a horrible character 0 character...</td>\n    </tr>\n    <tr>\n      <th>931</th>\n      <td>The One We Really Knew Would Win Over A Jury. ...</td>\n    </tr>\n    <tr>\n      <th>23</th>\n      <td>\"Have you ever seen a portal?\" Those who love ...</td>\n    </tr>\n    <tr>\n      <th>1096</th>\n      <td>kisses like pink cotton candy... #riverdale #b...</td>\n    </tr>\n    <tr>\n      <th>382</th>\n      <td>Word, Steelshanks lost Aeron Greyjoy! #GameOfT...</td>\n    </tr>\n    <tr>\n      <th>585</th>\n      <td>Vote for you favorite international web series...</td>\n    </tr>\n    <tr>\n      <th>1598</th>\n      <td>@NewsOfTheDead #TheWalkingDead S10 and #FearTW...</td>\n    </tr>\n    <tr>\n      <th>806</th>\n      <td>ðŸ“· Stare into my eyes Saturday #ww84 #pedrop...</td>\n    </tr>\n    <tr>\n      <th>413</th>\n      <td>Think carefully before you say them, for once ...</td>\n    </tr>\n    <tr>\n      <th>394</th>\n      <td>Current situation in Valyria @ r/FreeFolk &amp;gt;...</td>\n    </tr>\n    <tr>\n      <th>1383</th>\n      <td>Omggg I want the new season! #StrangerThings h...</td>\n    </tr>\n    <tr>\n      <th>1639</th>\n      <td>#TheWalkingDead star Norman Reedus joining #TW...</td>\n    </tr>\n    <tr>\n      <th>532</th>\n      <td>The great thing about reading is that it broad...</td>\n    </tr>\n    <tr>\n      <th>1730</th>\n      <td>It's getting harder every day to be a fan of @...</td>\n    </tr>\n    <tr>\n      <th>1345</th>\n      <td>What will happen to Eleven in Stranger Things ...</td>\n    </tr>\n    <tr>\n      <th>422</th>\n      <td>Tyrion's speech during the Trial scene ðŸ˜® ST...</td>\n    </tr>\n    <tr>\n      <th>551</th>\n      <td>If arturito doesnâ€™t die in season 5, I m jum...</td>\n    </tr>\n    <tr>\n      <th>979</th>\n      <td>â€œSomeday soon weâ€™re gonna drop that little...</td>\n    </tr>\n    <tr>\n      <th>765</th>\n      <td>USA/Canada can now preorder PURE NARCO. Coming...</td>\n    </tr>\n    <tr>\n      <th>1234</th>\n      <td>#Robin: I'M ROBIN...#StrangerThings https://t....</td>\n    </tr>\n    <tr>\n      <th>810</th>\n      <td>@Icarus_Reloaded After a few back to back bing...</td>\n    </tr>\n    <tr>\n      <th>1237</th>\n      <td>OMFG!! I SWEAR THIS PHOTO LEFT ME OUT OF BREAT...</td>\n    </tr>\n    <tr>\n      <th>898</th>\n      <td>One more?#walterwhite #breakingbad #michaelsco...</td>\n    </tr>\n    <tr>\n      <th>576</th>\n      <td>#MoneyHeist an ultimate web series. ðŸ‘</td>\n    </tr>\n    <tr>\n      <th>706</th>\n      <td>Money Heist lovers where you at?#MoneyHeist5 #...</td>\n    </tr>\n    <tr>\n      <th>730</th>\n      <td>Rule diya iss scene neðŸ’”BerlinðŸ˜¢Best webse...</td>\n    </tr>\n    <tr>\n      <th>946</th>\n      <td>I've just watched episode S01 | E06 of Prison ...</td>\n    </tr>\n    <tr>\n      <th>353</th>\n      <td>haha Tyrion go duhhhhh @ r/FreeFolk &amp;gt; https...</td>\n    </tr>\n    <tr>\n      <th>1655</th>\n      <td>Carol Season 11 #TheWalkingDead ðŸ–¤ https://t...</td>\n    </tr>\n    <tr>\n      <th>552</th>\n      <td>Mostly Actors Actresses working for #Money  #D...</td>\n    </tr>\n    <tr>\n      <th>937</th>\n      <td>I've just watched episode S01 | E14 of Prison ...</td>\n    </tr>\n    <tr>\n      <th>1480</th>\n      <td>Kathy Bates em #TheBigBangTheory ðŸ˜ðŸ˜ðŸ˜</td>\n    </tr>\n    <tr>\n      <th>555</th>\n      <td>Let's explore the lessons #MoneyHeist has taug...</td>\n    </tr>\n    <tr>\n      <th>1677</th>\n      <td>That child was all she cared about in the worl...</td>\n    </tr>\n    <tr>\n      <th>482</th>\n      <td>#GameOfThrones #CatTshirts The House of Felis ...</td>\n    </tr>\n    <tr>\n      <th>819</th>\n      <td>https://t.co/v4oq7pdCY2Beautiful Emma Coronel,...</td>\n    </tr>\n    <tr>\n      <th>298</th>\n      <td>\"Alright, tell you what. Both of you pull it o...</td>\n    </tr>\n    <tr>\n      <th>1697</th>\n      <td>He was smiling in the last episode, welcome ba...</td>\n    </tr>\n    <tr>\n      <th>1567</th>\n      <td>day 135: Rick GrimesðŸ§Ÿâ€â™‚ï¸ #TheWalkingD...</td>\n    </tr>\n    <tr>\n      <th>888</th>\n      <td>Is it just me who thinks that #Locatelli looks...</td>\n    </tr>\n    <tr>\n      <th>495</th>\n      <td>New! 2021 #gameofthrones  The Iron Anniversary...</td>\n    </tr>\n    <tr>\n      <th>251</th>\n      <td>#BreakingBad Oh, I'm sorry, oh, the workstatio...</td>\n    </tr>\n    <tr>\n      <th>1406</th>\n      <td>Man the new season of Stranger Things is takin...</td>\n    </tr>\n    <tr>\n      <th>1616</th>\n      <td>Happy #ThrowbackThursday #TWDFamily #RickGrime...</td>\n    </tr>\n    <tr>\n      <th>1325</th>\n      <td>I love so bad Stranger Things, so thany you ag...</td>\n    </tr>\n    <tr>\n      <th>1312</th>\n      <td>Stranger Things 4 Set Photos Indicate A Rough ...</td>\n    </tr>\n  </tbody>\n</table>\n</div>"
     },
     "metadata": {},
     "execution_count": 5
    }
   ],
   "metadata": {}
  },
  {
   "cell_type": "code",
   "execution_count": 6,
   "source": [
    "shuffled_df.tweet.iloc[785]"
   ],
   "outputs": [
    {
     "output_type": "execute_result",
     "data": {
      "text/plain": [
       "'Demon time #MoneyHeist #deeperthanrap https://t.co/qLBZ4351Ch'"
      ]
     },
     "metadata": {},
     "execution_count": 6
    }
   ],
   "metadata": {}
  },
  {
   "cell_type": "code",
   "execution_count": 7,
   "source": [
    "#read in the vader data frame for evaluation\n",
    "data = pd.read_csv('Data/Vader_Eval_Original.csv', sep = ',')\n"
   ],
   "outputs": [],
   "metadata": {}
  },
  {
   "cell_type": "code",
   "execution_count": 8,
   "source": [
    "# read in the data from the manually labelled data\n",
    "label = pd.read_csv('Data/vader_eval_labelled.csv', sep = ';')"
   ],
   "outputs": [],
   "metadata": {}
  },
  {
   "cell_type": "code",
   "execution_count": 9,
   "source": [
    "# change compound from continous to categorical variable\n",
    "data[\"compound\"] = np.where(data[\"compound\"] >= 0.05, 1, data[\"compound\"])\n",
    "data[\"compound\"] = np.where(data[\"compound\"] <= -0.05, -1, data[\"compound\"])\n",
    "data[\"compound\"] = np.where((data[\"compound\"] > -0.05) & (data[\"compound\"] < 0.05), 0, data[\"compound\"])\n"
   ],
   "outputs": [],
   "metadata": {}
  },
  {
   "cell_type": "code",
   "execution_count": 13,
   "metadata": {},
   "outputs": [],
   "source": [
    "pd.set_option('display.max_colwidth', None)"
   ]
  },
  {
   "cell_type": "code",
   "execution_count": 23,
   "source": [
    "data[['tweet', 'compound']].loc[10]"
   ],
   "outputs": [
    {
     "output_type": "execute_result",
     "data": {
      "text/plain": [
       "tweet       @netflix Please I need another season of #BlackMirror it's my favorite. Please!\n",
       "compound                                                                                  1\n",
       "Name: 10, dtype: object"
      ]
     },
     "metadata": {},
     "execution_count": 23
    }
   ],
   "metadata": {}
  },
  {
   "cell_type": "code",
   "execution_count": 115,
   "source": [
    "# inner merge for only data with vader and manual sentiment, merging on indexes\r\n",
    "\r\n",
    "merged_df = pd.merge(data, label, right_on='Unnamed: 0', left_on='Unnamed: 0', how = 'inner').drop(['tweet_y'], axis=1) # Unnamed is here the old index for some reason"
   ],
   "outputs": [],
   "metadata": {}
  },
  {
   "cell_type": "code",
   "execution_count": 116,
   "source": [
    "merged_df.head()"
   ],
   "outputs": [
    {
     "output_type": "execute_result",
     "data": {
      "text/plain": [
       "   Unnamed: 0       user_id  user_statuses             name  \\\n",
       "0          23  2.922871e+08           5066         MKSwaine   \n",
       "1         135  1.403080e+18             46  AnalysisByMagui   \n",
       "2         251  7.763117e+08           1638         firfox20   \n",
       "3         298  4.838521e+09         353212          Tian_A1   \n",
       "4         353  3.245109e+09          19592   RedditFreeFolk   \n",
       "\n",
       "                                             tweet_x  retweets  \\\n",
       "0  \"Have you ever seen a portal?\" Those who love ...         0   \n",
       "1  Tags because I forgot: \\r\\n#ONEUS #ì›ì–´ìŠ¤ #...         0   \n",
       "2  #BreakingBad \\r\\nOh, I'm sorry, oh, the workst...         0   \n",
       "3  \"Alright, tell you what. Both of you pull it o...         2   \n",
       "4  haha Tyrion go duhhhhh @ r/FreeFolk &gt; https...         3   \n",
       "\n",
       "                  location     created  followers  is_user_verified  \\\n",
       "0                Gibraltar  17/06/2021       1363             False   \n",
       "1                      NaN  10/06/2021          3             False   \n",
       "2  Kingdom of Saudi Arabia  16/06/2021       1409             False   \n",
       "3               Everywhere  16/06/2021       1479             False   \n",
       "4        North of the wall  18/06/2021       3488             False   \n",
       "\n",
       "   favorite_count  in_reply_to_status_id         keyword language  \\\n",
       "0               0                    NaN    #blackmirror       en   \n",
       "1               0           1.400000e+18    #blackmirror       en   \n",
       "2               1                    NaN    #breakingbad       en   \n",
       "3               0                    NaN    #breakingbad       en   \n",
       "4               7                    NaN  #gameofthrones       en   \n",
       "\n",
       "                                                site  \\\n",
       "0   date post corona\\2021-06-18_en_#blackmirror.json   \n",
       "1   date post corona\\2021-06-18_en_#blackmirror.json   \n",
       "2   date post corona\\2021-06-18_en_#breakingbad.json   \n",
       "3   date post corona\\2021-06-18_en_#breakingbad.json   \n",
       "4  date post corona\\2021-06-18_en_#gameofthrones....   \n",
       "\n",
       "                                         tweet_vader  compound  sentiment  \n",
       "0  Have seen portal? Those love #DonnieDarko #Bla...       1.0          1  \n",
       "1  Tags forgot: #ONEUS #ì›ì–´ìŠ¤ #Tomoon #Binary...       0.0          0  \n",
       "2   #BreakingBad Oh, I'm sorry, oh, workstation ðŸ˜‚      -1.0          1  \n",
       "3  Alright, tell what. Both pull butts right now,...       1.0          0  \n",
       "4  haha Tyrion duhhhhh r/FreeFolk &gt; #GameofThr...       1.0          1  "
      ],
      "text/html": [
       "<div>\n",
       "<style scoped>\n",
       "    .dataframe tbody tr th:only-of-type {\n",
       "        vertical-align: middle;\n",
       "    }\n",
       "\n",
       "    .dataframe tbody tr th {\n",
       "        vertical-align: top;\n",
       "    }\n",
       "\n",
       "    .dataframe thead th {\n",
       "        text-align: right;\n",
       "    }\n",
       "</style>\n",
       "<table border=\"1\" class=\"dataframe\">\n",
       "  <thead>\n",
       "    <tr style=\"text-align: right;\">\n",
       "      <th></th>\n",
       "      <th>Unnamed: 0</th>\n",
       "      <th>user_id</th>\n",
       "      <th>user_statuses</th>\n",
       "      <th>name</th>\n",
       "      <th>tweet_x</th>\n",
       "      <th>retweets</th>\n",
       "      <th>location</th>\n",
       "      <th>created</th>\n",
       "      <th>followers</th>\n",
       "      <th>is_user_verified</th>\n",
       "      <th>favorite_count</th>\n",
       "      <th>in_reply_to_status_id</th>\n",
       "      <th>keyword</th>\n",
       "      <th>language</th>\n",
       "      <th>site</th>\n",
       "      <th>tweet_vader</th>\n",
       "      <th>compound</th>\n",
       "      <th>sentiment</th>\n",
       "    </tr>\n",
       "  </thead>\n",
       "  <tbody>\n",
       "    <tr>\n",
       "      <th>0</th>\n",
       "      <td>23</td>\n",
       "      <td>2.922871e+08</td>\n",
       "      <td>5066</td>\n",
       "      <td>MKSwaine</td>\n",
       "      <td>\"Have you ever seen a portal?\" Those who love ...</td>\n",
       "      <td>0</td>\n",
       "      <td>Gibraltar</td>\n",
       "      <td>17/06/2021</td>\n",
       "      <td>1363</td>\n",
       "      <td>False</td>\n",
       "      <td>0</td>\n",
       "      <td>NaN</td>\n",
       "      <td>#blackmirror</td>\n",
       "      <td>en</td>\n",
       "      <td>date post corona\\2021-06-18_en_#blackmirror.json</td>\n",
       "      <td>Have seen portal? Those love #DonnieDarko #Bla...</td>\n",
       "      <td>1.0</td>\n",
       "      <td>1</td>\n",
       "    </tr>\n",
       "    <tr>\n",
       "      <th>1</th>\n",
       "      <td>135</td>\n",
       "      <td>1.403080e+18</td>\n",
       "      <td>46</td>\n",
       "      <td>AnalysisByMagui</td>\n",
       "      <td>Tags because I forgot: \\r\\n#ONEUS #ì›ì–´ìŠ¤ #...</td>\n",
       "      <td>0</td>\n",
       "      <td>NaN</td>\n",
       "      <td>10/06/2021</td>\n",
       "      <td>3</td>\n",
       "      <td>False</td>\n",
       "      <td>0</td>\n",
       "      <td>1.400000e+18</td>\n",
       "      <td>#blackmirror</td>\n",
       "      <td>en</td>\n",
       "      <td>date post corona\\2021-06-18_en_#blackmirror.json</td>\n",
       "      <td>Tags forgot: #ONEUS #ì›ì–´ìŠ¤ #Tomoon #Binary...</td>\n",
       "      <td>0.0</td>\n",
       "      <td>0</td>\n",
       "    </tr>\n",
       "    <tr>\n",
       "      <th>2</th>\n",
       "      <td>251</td>\n",
       "      <td>7.763117e+08</td>\n",
       "      <td>1638</td>\n",
       "      <td>firfox20</td>\n",
       "      <td>#BreakingBad \\r\\nOh, I'm sorry, oh, the workst...</td>\n",
       "      <td>0</td>\n",
       "      <td>Kingdom of Saudi Arabia</td>\n",
       "      <td>16/06/2021</td>\n",
       "      <td>1409</td>\n",
       "      <td>False</td>\n",
       "      <td>1</td>\n",
       "      <td>NaN</td>\n",
       "      <td>#breakingbad</td>\n",
       "      <td>en</td>\n",
       "      <td>date post corona\\2021-06-18_en_#breakingbad.json</td>\n",
       "      <td>#BreakingBad Oh, I'm sorry, oh, workstation ðŸ˜‚</td>\n",
       "      <td>-1.0</td>\n",
       "      <td>1</td>\n",
       "    </tr>\n",
       "    <tr>\n",
       "      <th>3</th>\n",
       "      <td>298</td>\n",
       "      <td>4.838521e+09</td>\n",
       "      <td>353212</td>\n",
       "      <td>Tian_A1</td>\n",
       "      <td>\"Alright, tell you what. Both of you pull it o...</td>\n",
       "      <td>2</td>\n",
       "      <td>Everywhere</td>\n",
       "      <td>16/06/2021</td>\n",
       "      <td>1479</td>\n",
       "      <td>False</td>\n",
       "      <td>0</td>\n",
       "      <td>NaN</td>\n",
       "      <td>#breakingbad</td>\n",
       "      <td>en</td>\n",
       "      <td>date post corona\\2021-06-18_en_#breakingbad.json</td>\n",
       "      <td>Alright, tell what. Both pull butts right now,...</td>\n",
       "      <td>1.0</td>\n",
       "      <td>0</td>\n",
       "    </tr>\n",
       "    <tr>\n",
       "      <th>4</th>\n",
       "      <td>353</td>\n",
       "      <td>3.245109e+09</td>\n",
       "      <td>19592</td>\n",
       "      <td>RedditFreeFolk</td>\n",
       "      <td>haha Tyrion go duhhhhh @ r/FreeFolk &amp;gt; https...</td>\n",
       "      <td>3</td>\n",
       "      <td>North of the wall</td>\n",
       "      <td>18/06/2021</td>\n",
       "      <td>3488</td>\n",
       "      <td>False</td>\n",
       "      <td>7</td>\n",
       "      <td>NaN</td>\n",
       "      <td>#gameofthrones</td>\n",
       "      <td>en</td>\n",
       "      <td>date post corona\\2021-06-18_en_#gameofthrones....</td>\n",
       "      <td>haha Tyrion duhhhhh r/FreeFolk &amp;gt; #GameofThr...</td>\n",
       "      <td>1.0</td>\n",
       "      <td>1</td>\n",
       "    </tr>\n",
       "  </tbody>\n",
       "</table>\n",
       "</div>"
      ]
     },
     "metadata": {},
     "execution_count": 116
    }
   ],
   "metadata": {}
  },
  {
   "cell_type": "code",
   "execution_count": 117,
   "source": [
    "merged_df.Sentiment = merged_df.sentiment.astype('float64') # changing Sentiment to float"
   ],
   "outputs": [
    {
     "output_type": "stream",
     "name": "stderr",
     "text": [
      "<ipython-input-117-311aafac3350>:1: UserWarning: Pandas doesn't allow columns to be created via a new attribute name - see https://pandas.pydata.org/pandas-docs/stable/indexing.html#attribute-access\n",
      "  merged_df.Sentiment = merged_df.sentiment.astype('float64') # changing Sentiment to float\n"
     ]
    }
   ],
   "metadata": {}
  },
  {
   "cell_type": "code",
   "execution_count": 118,
   "source": [
    "merged_df.head()"
   ],
   "outputs": [
    {
     "output_type": "execute_result",
     "data": {
      "text/plain": [
       "   Unnamed: 0       user_id  user_statuses             name  \\\n",
       "0          23  2.922871e+08           5066         MKSwaine   \n",
       "1         135  1.403080e+18             46  AnalysisByMagui   \n",
       "2         251  7.763117e+08           1638         firfox20   \n",
       "3         298  4.838521e+09         353212          Tian_A1   \n",
       "4         353  3.245109e+09          19592   RedditFreeFolk   \n",
       "\n",
       "                                             tweet_x  retweets  \\\n",
       "0  \"Have you ever seen a portal?\" Those who love ...         0   \n",
       "1  Tags because I forgot: \\r\\n#ONEUS #ì›ì–´ìŠ¤ #...         0   \n",
       "2  #BreakingBad \\r\\nOh, I'm sorry, oh, the workst...         0   \n",
       "3  \"Alright, tell you what. Both of you pull it o...         2   \n",
       "4  haha Tyrion go duhhhhh @ r/FreeFolk &gt; https...         3   \n",
       "\n",
       "                  location     created  followers  is_user_verified  \\\n",
       "0                Gibraltar  17/06/2021       1363             False   \n",
       "1                      NaN  10/06/2021          3             False   \n",
       "2  Kingdom of Saudi Arabia  16/06/2021       1409             False   \n",
       "3               Everywhere  16/06/2021       1479             False   \n",
       "4        North of the wall  18/06/2021       3488             False   \n",
       "\n",
       "   favorite_count  in_reply_to_status_id         keyword language  \\\n",
       "0               0                    NaN    #blackmirror       en   \n",
       "1               0           1.400000e+18    #blackmirror       en   \n",
       "2               1                    NaN    #breakingbad       en   \n",
       "3               0                    NaN    #breakingbad       en   \n",
       "4               7                    NaN  #gameofthrones       en   \n",
       "\n",
       "                                                site  \\\n",
       "0   date post corona\\2021-06-18_en_#blackmirror.json   \n",
       "1   date post corona\\2021-06-18_en_#blackmirror.json   \n",
       "2   date post corona\\2021-06-18_en_#breakingbad.json   \n",
       "3   date post corona\\2021-06-18_en_#breakingbad.json   \n",
       "4  date post corona\\2021-06-18_en_#gameofthrones....   \n",
       "\n",
       "                                         tweet_vader  compound  sentiment  \n",
       "0  Have seen portal? Those love #DonnieDarko #Bla...       1.0          1  \n",
       "1  Tags forgot: #ONEUS #ì›ì–´ìŠ¤ #Tomoon #Binary...       0.0          0  \n",
       "2   #BreakingBad Oh, I'm sorry, oh, workstation ðŸ˜‚      -1.0          1  \n",
       "3  Alright, tell what. Both pull butts right now,...       1.0          0  \n",
       "4  haha Tyrion duhhhhh r/FreeFolk &gt; #GameofThr...       1.0          1  "
      ],
      "text/html": [
       "<div>\n",
       "<style scoped>\n",
       "    .dataframe tbody tr th:only-of-type {\n",
       "        vertical-align: middle;\n",
       "    }\n",
       "\n",
       "    .dataframe tbody tr th {\n",
       "        vertical-align: top;\n",
       "    }\n",
       "\n",
       "    .dataframe thead th {\n",
       "        text-align: right;\n",
       "    }\n",
       "</style>\n",
       "<table border=\"1\" class=\"dataframe\">\n",
       "  <thead>\n",
       "    <tr style=\"text-align: right;\">\n",
       "      <th></th>\n",
       "      <th>Unnamed: 0</th>\n",
       "      <th>user_id</th>\n",
       "      <th>user_statuses</th>\n",
       "      <th>name</th>\n",
       "      <th>tweet_x</th>\n",
       "      <th>retweets</th>\n",
       "      <th>location</th>\n",
       "      <th>created</th>\n",
       "      <th>followers</th>\n",
       "      <th>is_user_verified</th>\n",
       "      <th>favorite_count</th>\n",
       "      <th>in_reply_to_status_id</th>\n",
       "      <th>keyword</th>\n",
       "      <th>language</th>\n",
       "      <th>site</th>\n",
       "      <th>tweet_vader</th>\n",
       "      <th>compound</th>\n",
       "      <th>sentiment</th>\n",
       "    </tr>\n",
       "  </thead>\n",
       "  <tbody>\n",
       "    <tr>\n",
       "      <th>0</th>\n",
       "      <td>23</td>\n",
       "      <td>2.922871e+08</td>\n",
       "      <td>5066</td>\n",
       "      <td>MKSwaine</td>\n",
       "      <td>\"Have you ever seen a portal?\" Those who love ...</td>\n",
       "      <td>0</td>\n",
       "      <td>Gibraltar</td>\n",
       "      <td>17/06/2021</td>\n",
       "      <td>1363</td>\n",
       "      <td>False</td>\n",
       "      <td>0</td>\n",
       "      <td>NaN</td>\n",
       "      <td>#blackmirror</td>\n",
       "      <td>en</td>\n",
       "      <td>date post corona\\2021-06-18_en_#blackmirror.json</td>\n",
       "      <td>Have seen portal? Those love #DonnieDarko #Bla...</td>\n",
       "      <td>1.0</td>\n",
       "      <td>1</td>\n",
       "    </tr>\n",
       "    <tr>\n",
       "      <th>1</th>\n",
       "      <td>135</td>\n",
       "      <td>1.403080e+18</td>\n",
       "      <td>46</td>\n",
       "      <td>AnalysisByMagui</td>\n",
       "      <td>Tags because I forgot: \\r\\n#ONEUS #ì›ì–´ìŠ¤ #...</td>\n",
       "      <td>0</td>\n",
       "      <td>NaN</td>\n",
       "      <td>10/06/2021</td>\n",
       "      <td>3</td>\n",
       "      <td>False</td>\n",
       "      <td>0</td>\n",
       "      <td>1.400000e+18</td>\n",
       "      <td>#blackmirror</td>\n",
       "      <td>en</td>\n",
       "      <td>date post corona\\2021-06-18_en_#blackmirror.json</td>\n",
       "      <td>Tags forgot: #ONEUS #ì›ì–´ìŠ¤ #Tomoon #Binary...</td>\n",
       "      <td>0.0</td>\n",
       "      <td>0</td>\n",
       "    </tr>\n",
       "    <tr>\n",
       "      <th>2</th>\n",
       "      <td>251</td>\n",
       "      <td>7.763117e+08</td>\n",
       "      <td>1638</td>\n",
       "      <td>firfox20</td>\n",
       "      <td>#BreakingBad \\r\\nOh, I'm sorry, oh, the workst...</td>\n",
       "      <td>0</td>\n",
       "      <td>Kingdom of Saudi Arabia</td>\n",
       "      <td>16/06/2021</td>\n",
       "      <td>1409</td>\n",
       "      <td>False</td>\n",
       "      <td>1</td>\n",
       "      <td>NaN</td>\n",
       "      <td>#breakingbad</td>\n",
       "      <td>en</td>\n",
       "      <td>date post corona\\2021-06-18_en_#breakingbad.json</td>\n",
       "      <td>#BreakingBad Oh, I'm sorry, oh, workstation ðŸ˜‚</td>\n",
       "      <td>-1.0</td>\n",
       "      <td>1</td>\n",
       "    </tr>\n",
       "    <tr>\n",
       "      <th>3</th>\n",
       "      <td>298</td>\n",
       "      <td>4.838521e+09</td>\n",
       "      <td>353212</td>\n",
       "      <td>Tian_A1</td>\n",
       "      <td>\"Alright, tell you what. Both of you pull it o...</td>\n",
       "      <td>2</td>\n",
       "      <td>Everywhere</td>\n",
       "      <td>16/06/2021</td>\n",
       "      <td>1479</td>\n",
       "      <td>False</td>\n",
       "      <td>0</td>\n",
       "      <td>NaN</td>\n",
       "      <td>#breakingbad</td>\n",
       "      <td>en</td>\n",
       "      <td>date post corona\\2021-06-18_en_#breakingbad.json</td>\n",
       "      <td>Alright, tell what. Both pull butts right now,...</td>\n",
       "      <td>1.0</td>\n",
       "      <td>0</td>\n",
       "    </tr>\n",
       "    <tr>\n",
       "      <th>4</th>\n",
       "      <td>353</td>\n",
       "      <td>3.245109e+09</td>\n",
       "      <td>19592</td>\n",
       "      <td>RedditFreeFolk</td>\n",
       "      <td>haha Tyrion go duhhhhh @ r/FreeFolk &amp;gt; https...</td>\n",
       "      <td>3</td>\n",
       "      <td>North of the wall</td>\n",
       "      <td>18/06/2021</td>\n",
       "      <td>3488</td>\n",
       "      <td>False</td>\n",
       "      <td>7</td>\n",
       "      <td>NaN</td>\n",
       "      <td>#gameofthrones</td>\n",
       "      <td>en</td>\n",
       "      <td>date post corona\\2021-06-18_en_#gameofthrones....</td>\n",
       "      <td>haha Tyrion duhhhhh r/FreeFolk &amp;gt; #GameofThr...</td>\n",
       "      <td>1.0</td>\n",
       "      <td>1</td>\n",
       "    </tr>\n",
       "  </tbody>\n",
       "</table>\n",
       "</div>"
      ]
     },
     "metadata": {},
     "execution_count": 118
    }
   ],
   "metadata": {}
  },
  {
   "cell_type": "code",
   "execution_count": 119,
   "source": [
    "# column 'compound' from vader -> predicted values\r\n",
    "# column 'sentiment' own labelled data -> true values\r\n",
    "# in order to determine the correctness of vader's sentiment evaluation we can use the confusion matrix to determine the false postives and negatives.\r\n",
    "\r\n",
    "con_mat = pd.crosstab(merged_df.compound, merged_df.sentiment, rownames=['compound'], colnames=['sentiment'])\r\n",
    "print(con_mat)"
   ],
   "outputs": [
    {
     "output_type": "stream",
     "name": "stdout",
     "text": [
      "sentiment  -1   0   1\n",
      "compound             \n",
      "-1.0        3   4   3\n",
      " 0.0        0  14   4\n",
      " 1.0        2  10  10\n"
     ]
    }
   ],
   "metadata": {}
  },
  {
   "cell_type": "markdown",
   "source": [
    "True Positive (TP) \n",
    "\n",
    "    The predicted value matches the actual value\n",
    "    The actual value was positive and the model predicted a positive value\n",
    "\n",
    "True Negative (TN) \n",
    "\n",
    "    The predicted value matches the actual value\n",
    "    The actual value was negative and the model predicted a negative value\n",
    "\n",
    "False Positive (FP) – Type 1 error\n",
    "\n",
    "    The predicted value was falsely predicted\n",
    "    The actual value was negative but the model predicted a positive value\n",
    "    Also known as the Type 1 error\n",
    "\n",
    "False Negative (FN) – Type 2 error\n",
    "\n",
    "    The predicted value was falsely predicted\n",
    "    The actual value was positive but the model predicted a negative value\n",
    "    Also known as the Type 2 error\n"
   ],
   "metadata": {}
  },
  {
   "cell_type": "code",
   "execution_count": 120,
   "source": [
    "from sklearn.metrics import multilabel_confusion_matrix"
   ],
   "outputs": [],
   "metadata": {}
  },
  {
   "cell_type": "code",
   "execution_count": 121,
   "source": [
    "print(multilabel_confusion_matrix(merged_df.compound, merged_df.Sentiment))"
   ],
   "outputs": [
    {
     "output_type": "stream",
     "name": "stdout",
     "text": [
      "[[[38  2]\n",
      "  [ 7  3]]\n",
      "\n",
      " [[18 14]\n",
      "  [ 4 14]]\n",
      "\n",
      " [[21  7]\n",
      "  [12 10]]]\n"
     ]
    }
   ],
   "metadata": {}
  },
  {
   "cell_type": "code",
   "execution_count": 122,
   "source": [
    "cm = sns.color_palette(\"YlOrBr\", as_cmap=True)\r\n",
    "sns.heatmap(con_mat, annot=True, annot_kws={\"size\": 16}, xticklabels = ['Negative', 'Neutral','Positive'], yticklabels = ['Negative', 'Neutral','Positive'], cmap = cm)\r\n"
   ],
   "outputs": [
    {
     "output_type": "execute_result",
     "data": {
      "text/plain": [
       "<AxesSubplot:xlabel='sentiment', ylabel='compound'>"
      ]
     },
     "metadata": {},
     "execution_count": 122
    },
    {
     "output_type": "display_data",
     "data": {
      "text/plain": [
       "<Figure size 432x288 with 2 Axes>"
      ],
      "image/png": "[encoded data removed]"
     },
     "metadata": {
      "needs_background": "light"
     }
    }
   ],
   "metadata": {}
  },
  {
   "cell_type": "code",
   "execution_count": 123,
   "source": [
    "print(classification_report(merged_df.compound, merged_df.Sentiment))"
   ],
   "outputs": [
    {
     "output_type": "stream",
     "name": "stdout",
     "text": [
      "              precision    recall  f1-score   support\n",
      "\n",
      "        -1.0       0.60      0.30      0.40        10\n",
      "         0.0       0.50      0.78      0.61        18\n",
      "         1.0       0.59      0.45      0.51        22\n",
      "\n",
      "    accuracy                           0.54        50\n",
      "   macro avg       0.56      0.51      0.51        50\n",
      "weighted avg       0.56      0.54      0.52        50\n",
      "\n"
     ]
    }
   ],
   "metadata": {}
  },
  {
   "cell_type": "code",
   "execution_count": null,
   "source": [],
   "outputs": [],
   "metadata": {}
  }
 ],
 "metadata": {
  "interpreter": {
   "hash": "516186bd0ec0d9f4d5315d95f88038d756540a3a2a2ced092e94dc29fedad10e"
  },
  "kernelspec": {
   "name": "python3",
   "display_name": "Python 3.8.3 64-bit ('base': conda)"
  },
  "language_info": {
   "name": "python",
   "version": "3.8.3"
  },
  "orig_nbformat": 4
 },
 "nbformat": 4,
 "nbformat_minor": 2
}